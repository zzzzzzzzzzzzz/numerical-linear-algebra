{
 "cells": [
  {
   "cell_type": "markdown",
   "metadata": {},
   "source": [
    "# Problem set 2 \n",
    "\n",
    "## 155 pts\n",
    "\n",
    "## For problems 1, 2, 4: all functions that you are asked to implement, you have to complete in separate file ```pset2.py```, where we provide signatures of the required functions . Also only this ```py```-file you have to submit in the bot to check correctness of your implementations.\n",
    "\n",
    "## For problem 3: see instructions in text"
   ]
  },
  {
   "cell_type": "markdown",
   "metadata": {},
   "source": [
    "## Problem 1 (LU decomposition) 35 pts"
   ]
  },
  {
   "cell_type": "markdown",
   "metadata": {},
   "source": [
    "### 1. LU for band matrices \n",
    "\n",
    "The complexity to find an LU decomposition of a dense $n\\times n$ matrix is $\\mathcal{O}(n^3)$.\n",
    "Significant reduction in complexity can be achieved if the matrix has a certain structure, e.g. it is sparse. \n",
    "In the following task we consider an important example of $LU$ for a special type of sparse matrices –– band matrices with the bandwidth $m$ equal to 3 or 5 which called tridiagonal and pentadiagonal respectively.\n",
    "\n",
    "- (5 pts) Write a function ```band_lu(diag_broadcast, n)``` which computes LU decomposition for tridiagonal or pentadiagonal matrix with given diagonal values. \n",
    "For example, input parametres ```(diag_broadcast = [1,-2,1], n = 4)``` mean that we need to find LU decomposition for the triangular matrix of the form:\n",
    "\n",
    "$$A = \\begin{pmatrix}\n",
    "-2 & 1 & 0 & 0\\\\\n",
    "1 & -2 & 1 & 0 \\\\\n",
    "0 & 1 & -2 & 1 \\\\\n",
    "0 & 0 & 1 & -2 \\\\\n",
    "\\end{pmatrix}.$$\n",
    "\n",
    "As an output it is considered to make ```L``` and ```U``` - 2D arrays representing diagonals in factors $L$ (```L[0]``` keeps first lower diagonal, ```L[1]``` keeps second lower, ...), and $U$ (```U[0,:]``` keeps main diagonal, ```U[:,1]``` keeps first upper, ...). More details you can find in comments to the corresponding function in ```pset2.py``` \n",
    "- (2 pts) Compare execution time of the band LU decomposition using standard function from ```scipy```, i.e. which takes the whole matrix and does not know about its special structure, and band decomposition of yours implementation. Comment on the results."
   ]
  },
  {
   "cell_type": "code",
   "execution_count": 15,
   "metadata": {},
   "outputs": [],
   "source": [
    "# Implement function in the ```pset2.py``` file\n",
    "from pset2 import band_lu\n",
    "from scipy.sparse import diags # can be used with broadcasting of scalars if desired dimensions are large\n",
    "import numpy as np\n",
    "from scipy.linalg import lu\n",
    "import scipy as sp\n",
    "from scipy import sparse"
   ]
  },
  {
   "cell_type": "code",
   "execution_count": 4,
   "metadata": {},
   "outputs": [],
   "source": [
    "import time\n",
    "scipy_times = []\n",
    "ns = [10,50,100,200,300,400,500,1000]\n",
    "for n in ns:\n",
    "    start = time.time()\n",
    "    ex = np.ones(n);\n",
    "    a = sp.sparse.spdiags(np.vstack((ex,  -2*ex, ex)), [-1, 0, 1], n, n).todense()\n",
    "    lu(a)\n",
    "    end = time.time()\n",
    "    scipy_times.append(end-start)"
   ]
  },
  {
   "cell_type": "code",
   "execution_count": 5,
   "metadata": {},
   "outputs": [],
   "source": [
    "my_times = []\n",
    "for n in ns:\n",
    "    start = time.time()\n",
    "    band_lu([1,2,-1,2,1], n)\n",
    "    end = time.time()\n",
    "    my_times.append(end-start)"
   ]
  },
  {
   "cell_type": "code",
   "execution_count": 7,
   "metadata": {},
   "outputs": [
    {
     "data": {
      "image/png": "[encoded data removed]",
      "text/plain": [
       "<Figure size 432x288 with 1 Axes>"
      ]
     },
     "metadata": {
      "needs_background": "light"
     },
     "output_type": "display_data"
    }
   ],
   "source": [
    "import matplotlib.pyplot as plt\n",
    "plt.plot(ns, scipy_times)\n",
    "plt.plot(ns, my_times)\n",
    "\n",
    "plt.legend(['scipy', 'band_lu'])\n",
    "plt.title('LU execution time comparison for band matrices')\n",
    "plt.xlabel('Size of matrix')\n",
    "plt.ylabel('Time, seconds')\n",
    "plt.show()"
   ]
  },
  {
   "cell_type": "markdown",
   "metadata": {},
   "source": [
    "We can see that band_lu is more stable and executes faster for bigger matrcies"
   ]
  },
  {
   "cell_type": "markdown",
   "metadata": {},
   "source": [
    "### 2. Completing the proof of existence of LU \n",
    "\n",
    "Some details in lecture proofs about $LU$ were omitted. Let us complete them here.\n",
    "- (5 pts) Prove that if $LU$ decomposition exists, then matrix is strictly regular.\n",
    "- (5 pts) Prove that if $A$ is a strictly regular matrix, then $A_1 = D - \\frac 1a b c^T$ (see lectures for notations) is also strictly regular."
   ]
  },
  {
   "cell_type": "markdown",
   "metadata": {},
   "source": [
    "*(5 pts) Prove that if  𝐿𝑈  decomposition exists, then matrix is strictly regular.*\n",
    "\n",
    "Strict regularity means that every principal minor is non-singular (eg determinant is not zero).\n",
    "\n",
    "Let's consider the minor $A_{kk}$ which means that we take first $k$ rows and cols of matrix $A$. And...\n",
    "$$A_{kk} = L_{kk} \\cdot U_{kk}$$\n",
    "$$det\\ A_{kk}=det\\ L_{kk} \\cdot det\\ U_{kk}$$\n",
    "We just need to proof that $det\\ L_{kk}$ and $det\\ U_{kk}$ are non zero. Let's proof for $L_{kk}$ by induction ($U_{kk}$ proof looks very simillar).\n",
    "\n",
    "For example, $L_{33}$ looks like\n",
    "$L_{33} = \\begin{pmatrix}\n",
    "l_{11} & 0 & 0\\\\\n",
    "l_{21} & l_{22} & 0 \\\\\n",
    "l_{31} & l_{32} & l_{33}\n",
    "\\end{pmatrix}.$ \n",
    "Where $l_{kk}$ are non-zero elements\n",
    "\n",
    "\n",
    "**Base of induction**\n",
    "\n",
    "For $k=1$ we have\n",
    "$det\\ L_{11} = l_{11}$ and $l_{11}$ is non zero element\n",
    "\n",
    "For $k=2$ we have\n",
    "$det\\ L_{22} = l_{22}\\cdot l_{11} - l_{21} \\cdot 0$ And we know that diagonal elements are non-zero, hence $det\\ L_{22}$ is also non zero\n",
    "\n",
    "**Induction step**\n",
    "$k=n$. Let's consider that $L_{nn}$ is non zero. Then laying out on a column $n+1$ which has $n$ zeros and $l_{(n+1)(n+1)}$ non zero element on the $n+1$ place we can see that\n",
    "$$det\\ L_{(n+1)(n+1)} = l_{(n+1)(n+1)}\\cdot(-1)^{2n+2} \\cdot \\det L_{nn} = l_{(n+1)(n+1)}\\cdot det\\ L_{nn}$$\n",
    "So now we can see that $det\\ L_{(n+1)(n+1)} \\neq 0$.\n",
    "\n",
    "Performing simillar proof for $U_{kk}$ we get $det\\ A_{kk} \\neq 0\\ \\forall k \\in N$. So $A$ is strictly regular "
   ]
  },
  {
   "cell_type": "markdown",
   "metadata": {},
   "source": [
    "*Prove that if  𝐴  is a strictly regular matrix, then  $𝐴_1=𝐷−\\frac{1}{a}𝑏𝑐^𝑇$  (see lectures for notations) is also strictly regular.*\n",
    "\n",
    "$a$ is just a number, so let's entitle $-\\frac{1}{a}b \\equiv u$. Now we have\n",
    "$$A_{1}=D-uc^T$$\n",
    "\n",
    "$$det\\ (D + uc^T) = det\\ \\begin{pmatrix}\n",
    "D+uc^T & 0\\\\\n",
    "0 & 1\n",
    "\\end{pmatrix} = det\\ \\begin{pmatrix}\n",
    "D+uc^T & 0\\\\\n",
    "0 & 1\n",
    "\\end{pmatrix} \\begin{pmatrix}\n",
    "I & 0\\\\\n",
    "-c^T & 1\n",
    "\\end{pmatrix} =det\\ \\begin{pmatrix}\n",
    "I & u\\\\\n",
    "0 & 1\n",
    "\\end{pmatrix} \\begin{pmatrix}\n",
    "D+uc^T & 0\\\\\n",
    "0 & 1\n",
    "\\end{pmatrix} \\begin{pmatrix}\n",
    "I & 0\\\\\n",
    "-c^T & 1\n",
    "\\end{pmatrix} = det\\ \\begin{pmatrix}\n",
    "D & u\\\\\n",
    "-c^T & 1\n",
    "\\end{pmatrix} = det\\ D + c^T u \\neq 0$$\n",
    "$D$ is also strictly regular, so $𝐴_1=𝐷−\\frac{1}{a}𝑏𝑐^𝑇$ is strictrly regular"
   ]
  },
  {
   "cell_type": "markdown",
   "metadata": {},
   "source": [
    "### 3. Stability of LU \n",
    "\n",
    "Let\n",
    "$A = \\begin{pmatrix}\n",
    "\\varepsilon & 1 & 0\\\\\n",
    "1 & 1 & 1 \\\\\n",
    "0 & 1 & 1\n",
    "\\end{pmatrix}.$ \n",
    "* (5 pts) Find analytically LU decomposition with and without pivoting for the matrix $A$.\n",
    "* (3 pts) Explain, why can the LU decomposition fail to approximate factors $L$ and $U$ for $|\\varepsilon|\\ll 1$ in computer arithmetic?"
   ]
  },
  {
   "cell_type": "markdown",
   "metadata": {},
   "source": [
    "*(5 pts) Find analytically LU decomposition with and without pivoting for the matrix  $𝐴$.*\n",
    "\n",
    "**with pivoting**\n",
    "At first, let's do pivoting\n",
    "$$\n",
    "\\begin{pmatrix}\n",
    "\\varepsilon & 1 & 0\\\\\n",
    "1 & 1 & 1 \\\\\n",
    "0 & 1 & 1\n",
    "\\end{pmatrix} \\longrightarrow\n",
    "\\begin{pmatrix}\n",
    "1 & 1 & 1\\\\\n",
    "\\varepsilon & 1 & 0 \\\\\n",
    "0 & 1 & 1\n",
    "\\end{pmatrix}\n",
    "$$\n",
    "Now on the main diagonal we have max values. Pivoting is ended. This gives us\n",
    "$$P=\n",
    "\\begin{pmatrix}\n",
    "0 & 1 & 0\\\\\n",
    "1 & 0 & 0 \\\\\n",
    "0 & 0 & 1\n",
    "\\end{pmatrix}=P^{-1}\n",
    "$$\n",
    "\n",
    "$$\n",
    "A=PLU\n",
    "$$\n",
    "\n",
    "$$\n",
    "P^{-1}A=LU\n",
    "$$\n",
    "\n",
    "$$\n",
    "\\begin{pmatrix}\n",
    "1 & 1 & 1\\\\\n",
    "\\varepsilon & 1 & 0 \\\\\n",
    "0 & 1 & 1\n",
    "\\end{pmatrix} = \n",
    "\\begin{pmatrix}\n",
    "1 & 0 & 0\\\\\n",
    "l_{10} & 1 & 0 \\\\\n",
    "l_{20} & l_{21} & 1\n",
    "\\end{pmatrix}\n",
    "\\begin{pmatrix}\n",
    "u_{00} & u_{01} & u_{02}\\\\\n",
    "0 & u_{11} & u_{12} \\\\\n",
    "0 & 0 & u_{22}\n",
    "\\end{pmatrix}\n",
    "$$\n",
    "\n",
    "Now let's start gauss process\n",
    "$$\n",
    "\\begin{pmatrix}\n",
    "1 & 1 & 1\\\\\n",
    "\\varepsilon & 1 & 0 \\\\\n",
    "0 & 1 & 1\n",
    "\\end{pmatrix}\\ \n",
    "u_{00}=1, u_{01} = 1, u_{02} = 1\n",
    "$$\n",
    "\n",
    "$$\n",
    "\\begin{pmatrix}\n",
    "1 & 1 & 1\\\\\n",
    "0 & 1-\\varepsilon & -\\varepsilon \\\\\n",
    "0 & 1 & 1\n",
    "\\end{pmatrix}\\ l_{10} = \\varepsilon, l_{20}=0, u_{11}=1-\\varepsilon, u_{12} = -\\varepsilon \n",
    "$$\n",
    "\n",
    "$$\n",
    "\\begin{pmatrix}\n",
    "1 & 1 & 1\\\\\n",
    "0 & 1-\\varepsilon & -\\varepsilon \\\\\n",
    "0 & 0 & 1+\\frac{\\varepsilon}{1-\\varepsilon}\n",
    "\\end{pmatrix}\\ l_{21} = \\frac{1}{1-\\varepsilon}, u_{22} = 1+\\frac{\\varepsilon}{1-\\varepsilon}\n",
    "$$\n",
    "\n",
    "$$\n",
    "P^{-1}A = \n",
    "\\begin{pmatrix}\n",
    "1 & 0 & 0\\\\\n",
    "\\varepsilon & 1 & 0 \\\\\n",
    "0 & \\frac{1}{1-\\varepsilon} & 1\n",
    "\\end{pmatrix}\n",
    "\\begin{pmatrix}\n",
    "1 & 1 & 1\\\\\n",
    "0 & 1-\\varepsilon & -\\varepsilon \\\\\n",
    "0 & 0 & 1+\\frac{\\varepsilon}{1-\\varepsilon}\n",
    "\\end{pmatrix}\n",
    "$$\n",
    "\n",
    "\n",
    "\n",
    "**without pivoting**\n",
    "$$\n",
    "\\begin{pmatrix}\n",
    "\\varepsilon & 1 & 0\\\\\n",
    "1 & 1 & 1 \\\\\n",
    "0 & 1 & 1\n",
    "\\end{pmatrix} = \n",
    "\\begin{pmatrix}\n",
    "1 & 0 & 0\\\\\n",
    "l_{10} & 1 & 0 \\\\\n",
    "l_{20} & l_{21} & 1\n",
    "\\end{pmatrix}\n",
    "\\begin{pmatrix}\n",
    "u_{00} & u_{01} & u_{02}\\\\\n",
    "0 & u_{11} & u_{12} \\\\\n",
    "0 & 0 & u_{22}\n",
    "\\end{pmatrix}\n",
    "$$\n",
    "\n",
    "$$\n",
    "\\begin{pmatrix}\n",
    "\\varepsilon & 1 & 0\\\\\n",
    "1 & 1 & 1 \\\\\n",
    "0 & 1 & 1\n",
    "\\end{pmatrix}\\ u_{00}=\\varepsilon, u_{01}=1, u_{02}=0\n",
    "$$\n",
    "\n",
    "$$\n",
    "\\begin{pmatrix}\n",
    "\\varepsilon & 1 & 0\\\\\n",
    "0 & 1-\\frac{1}{\\varepsilon} & 1 \\\\\n",
    "0 & 1 & 1\n",
    "\\end{pmatrix}\\ l_{10}=\\frac{1}{\\varepsilon}, l_{20}=0, u_{11}=1-\\frac{1}{\\varepsilon}, u_{12}=1\n",
    "$$\n",
    "\n",
    "$$\n",
    "\\begin{pmatrix}\n",
    "\\varepsilon & 1 & 0\\\\\n",
    "0 & 1-\\frac{1}{\\varepsilon} & 1 \\\\\n",
    "0 & 0 & 1-\\frac{1}{1-\\frac{1}{\\varepsilon}}\n",
    "\\end{pmatrix}\\ l_{21}=\\frac{1}{1-\\frac{1}{\\varepsilon}}, u_{22}=1-\\frac{1}{1-\\frac{1}{\\varepsilon}}\n",
    "$$\n",
    "\n",
    "$$\n",
    "\\begin{pmatrix}\n",
    "\\varepsilon & 1 & 0\\\\\n",
    "1 & 1 & 1 \\\\\n",
    "0 & 1 & 1\n",
    "\\end{pmatrix} = \n",
    "\\begin{pmatrix}\n",
    "1 & 0 & 0\\\\\n",
    "\\frac{1}{\\varepsilon} & 1 & 0 \\\\\n",
    "0 & \\frac{1}{1-\\frac{1}{\\varepsilon}} & 1\n",
    "\\end{pmatrix}\n",
    "\\begin{pmatrix}\n",
    "\\varepsilon & 1 & 0\\\\\n",
    "0 & 1-\\frac{1}{\\varepsilon} & 1 \\\\\n",
    "0 & 0 & 1-\\frac{1}{1-\\frac{1}{\\varepsilon}}\n",
    "\\end{pmatrix}\n",
    "$$"
   ]
  },
  {
   "cell_type": "markdown",
   "metadata": {},
   "source": [
    "*(3 pts) Explain, why can the LU decomposition fail to approximate factors  $𝐿$  and  $𝑈 $ for  |𝜀|≪1  in computer arithmetic?*\n",
    "\n",
    "Because of the details of floating point and division implementation in computers. In $U$ matrix we'll have value $1-\\frac{1}{10^{-18}}$ As you can see below $\\frac{1}{10^{-18}} \\neq 10^{18}$. Hence in the final result after multiplication we'll get a very big error. This was shown in the 7th lection."
   ]
  },
  {
   "cell_type": "code",
   "execution_count": 14,
   "metadata": {},
   "outputs": [
    {
     "data": {
      "text/plain": [
       "9.999999999999999e+17"
      ]
     },
     "execution_count": 14,
     "metadata": {},
     "output_type": "execute_result"
    }
   ],
   "source": [
    "1/1e-18"
   ]
  },
  {
   "cell_type": "code",
   "execution_count": 15,
   "metadata": {},
   "outputs": [
    {
     "data": {
      "text/plain": [
       "-9.999999999999999e+17"
      ]
     },
     "execution_count": 15,
     "metadata": {},
     "output_type": "execute_result"
    }
   ],
   "source": [
    "1-1/1e-18"
   ]
  },
  {
   "cell_type": "code",
   "execution_count": 19,
   "metadata": {},
   "outputs": [
    {
     "data": {
      "text/plain": [
       "-1e+18"
      ]
     },
     "execution_count": 19,
     "metadata": {},
     "output_type": "execute_result"
    }
   ],
   "source": [
    "1-1e18"
   ]
  },
  {
   "cell_type": "markdown",
   "metadata": {},
   "source": [
    "### 4. Block LU \n",
    "\n",
    "Let $A = \\begin{bmatrix} A_{11} & A_{12} \\\\ A_{21} & A_{22} \\end{bmatrix}$ be a block matrix. The goal is to solve the linear system\n",
    "\n",
    "$$\n",
    "     \\begin{bmatrix} A_{11} & A_{12} \\\\ A_{21} & A_{22} \\end{bmatrix} \\begin{bmatrix} u_1 \\\\ u_2 \\end{bmatrix} = \\begin{bmatrix} f_1 \\\\ f_2 \\end{bmatrix}.\n",
    "$$\n",
    "\n",
    "* (2 pts) Using block elimination find matrix $S$ and right-hand side $\\hat{f_2}$ so that $u_2$ can be found from $S u_2 = \\hat{f_2}$. Note that the matrix $S$ is called <font color='red'> Schur complement </font> of the block $A_{11}$.\n",
    "* (4 pts) Using Schur complement properties prove that \n",
    "\n",
    "$$\\det(X+AB) = \\det(X)\\det(I+BX^{-1}A), $$\n",
    "\n",
    "\n",
    "where $X$ - nonsingular square matrix.\n",
    "* (4 pts) Let matrix $F \\in \\mathbb{R}^{m \\times n}$ and $G \\in \\mathbb{R}^{n \\times m}$. Prove that \n",
    "\n",
    "$$\\det(I_m - FG) = \\det(I_n - GF).$$"
   ]
  },
  {
   "cell_type": "markdown",
   "metadata": {},
   "source": [
    "*(2 pts) Using block elimination find matrix  𝑆  and right-hand side  𝑓2^  so that  𝑢2  can be found from  𝑆𝑢2=𝑓2^ . Note that the matrix  𝑆  is called Schur complement of the block  𝐴11 .*\n",
    "\n",
    "$$\n",
    "     \\begin{bmatrix} I & 0 \\\\ -A_{21} A_{11}^{-1} & I \\end{bmatrix} \\begin{bmatrix} A_{11} & A_{12} \\\\ A_{21} & A_{22} \\end{bmatrix} \\begin{bmatrix} u_1 \\\\ u_2 \\end{bmatrix} = \\begin{bmatrix} I & 0 \\\\ -A_{21} A_{11}^{-1} & I \\end{bmatrix} \\begin{bmatrix} f_1 \\\\ f_2 \\end{bmatrix}.\n",
    "$$\n",
    "\n",
    "$$\n",
    "     \\begin{bmatrix} A_{11} & A_{12} \\\\ 0 & A_{22}- A_{21}A_{11}^{-1}A_{12} \\end{bmatrix} \\begin{bmatrix} u_1 \\\\ u_2 \\end{bmatrix} = \\begin{bmatrix} f_1 \\\\ -A_{21}A_{11}^{-1}f_1 + f_2 \\end{bmatrix}.\n",
    "$$\n",
    "\n",
    "$$S = A_{22}- A_{21}A_{11}^{-1}A_{12}$$\n",
    "$$\\hat{f_2} = -A_{21}A_{11}^{-1}f_1 + f_2 $$"
   ]
  },
  {
   "cell_type": "markdown",
   "metadata": {},
   "source": [
    "*(4 pts) Let matrix  𝐹∈ℝ𝑚×𝑛  and  𝐺∈ℝ𝑛×𝑚 . Prove that det(𝐼𝑚−𝐹𝐺)=det(𝐼𝑛−𝐺𝐹).*\n",
    "\n",
    "$$ A = \n",
    "\\begin{bmatrix}\n",
    "I_m & F \\\\\n",
    "G & I_n\n",
    "\\end{bmatrix}\n",
    " = \n",
    "\\begin{bmatrix}\n",
    "I_m & O \\\\\n",
    "G & I_n\n",
    "\\end{bmatrix}\n",
    "\\begin{bmatrix}\n",
    "I_m & F \\\\\n",
    "O & I_n - GF\n",
    "\\end{bmatrix} = CD\n",
    "$$\n",
    "\n",
    "$$\\det(A) = \\det(C)\\det(D) = 1 \\cdot \\det(I_n - GF)$$\n",
    "\n",
    "$$A = \n",
    "\\begin{bmatrix}\n",
    "I_m & F \\\\\n",
    "G & I_n\n",
    "\\end{bmatrix}= \n",
    "\\begin{bmatrix}\n",
    "I_m & F \\\\\n",
    "O & I_n\n",
    "\\end{bmatrix}\n",
    "\\begin{bmatrix}\n",
    "I_m - FG & O \\\\\n",
    "G & I_n\n",
    "\\end{bmatrix} = C'D'\n",
    "$$\n",
    "\n",
    "$$\\det(A) = \\det(C')\\det(D') = 1 \\cdot \\det(I_m - FG)$$\n",
    "\n",
    "$$\\det(I_m - FG) = \\det(I_n - GF)$$"
   ]
  },
  {
   "cell_type": "markdown",
   "metadata": {},
   "source": [
    "## Problem 2 (QR decomposition) 30 pts\n",
    "\n",
    "### 1. Standard Gram-Schmidt algorithm\n",
    "Our goal is to orthogonalize a system of linearly independent vectors $v_1,\\dots,v_n$.\n",
    "The standard algorithm for this task is the Gram-Schmidt process:\n",
    "\n",
    "$$\n",
    "\\begin{split}\n",
    "u_1 &= v_1, \\\\\n",
    "u_2 &= v_2 - \\frac{(v_2, u_1)}{(u_1, u_1)} u_1, \\\\\n",
    "\\dots \\\\\n",
    "u_n &= v_n - \\frac{(v_n, u_1)}{(u_1, u_1)} u_1 - \\frac{(v_n, u_2)}{(u_2, u_2)} u_2 - \\dots - \\frac{(v_n, u_{n-1})}{(u_{n-1}, u_{n-1})} u_{n-1}.\n",
    "\\end{split}\n",
    "$$\n",
    "\n",
    "Obtained $u_1, \\dots, u_n$ are orthogonal vectors in exact arithmetics. Then to make the system orthonormal you should divide each of the vectors by its norm: $u_i := u_i/\\|u_i\\|$.\n",
    "The Gram-Schmidt process can be considered as a QR decomposition. Let us show that."
   ]
  },
  {
   "cell_type": "markdown",
   "metadata": {},
   "source": [
    "* (2 pts) Write out what is matrices $Q$ and $R$ obtained in the process above. \n",
    "\n",
    "* (5 pts) Implement in the ```pset2.py``` the described Gram-Schmidt algorithm as a function ```gram_schmidt_qr(A)``` that takes a rectangular matrix ```A``` and outputs ```Q,R```.\n",
    "\n",
    "* (3 pts) Create a square [Vandermonde matrix](https://en.wikipedia.org/wiki/Vandermonde_matrix) $V\\in\\mathbb{R}^{n\\times n},\\ n = 20$ defined by the vector $x$: ```x = np.linspace(0,1,n)``` (components of $x$ are spaced uniformly between 0 and 1). \n",
    "The loss of orthogonality can be described by the following error: $\\|Q^{\\top}Q-I\\|_2$, where $Q^{\\top}Q$ is called a Gram matrix. Compute QR decomposition of the created matrix $V$ with function that you have implemented and calculate error $\\|Q^{\\top}Q-I\\|_2$. Comment on the result.\n",
    "\n",
    "* (5 pts) The observed loss of orthogonality is a problem of this particular algorithm. Luckily, there is [a simple improvement to the algorithm above](https://en.wikipedia.org/wiki/Gram–Schmidt_process#Numerical_stability) that reduces the loss of orthogonality. Implement this modification in the ```pset2.py``` as a function ```modified_gram_schmidt_qr(A)``` such that input and output are similar to ```gram_schmidt_qr(A)```. \n",
    "* (3 pts) Compute QR decomposition of the matrix $V$ from the previous task with the function ```modified_gram_schmidt_qr(A)```.\n",
    "Compute error $\\|Q^{\\top}Q-I\\|_2$. Compare this error to the error obtained with a \"pure\" Gram-Schmidt and comment on the result."
   ]
  },
  {
   "cell_type": "markdown",
   "metadata": {},
   "source": [
    "*(2 pts) Write out what is matrices  𝑄  and  𝑅  obtained in the process above.*\n",
    "\n",
    "$$A = \\begin{pmatrix}\n",
    "v_1 & v_2 & \\dotso & v_n\n",
    "\\end{pmatrix} = QR = \\begin{pmatrix}\n",
    "e_1 & e_2 & \\dotso & e_n\n",
    "\\end{pmatrix} \\begin{pmatrix}\n",
    "\\langle v_1, e_1 \\rangle & \\langle v_2, e_1 \\rangle & \\dotso & \\langle v_n, e_1 \\rangle \\\\\n",
    "0 & \\langle v_2, e_2 \\rangle & \\dotso & \\langle v_n, e_2 \\rangle \\\\\n",
    "\\vdots & \\vdots & \\ddots & \\vdots \\\\\n",
    "0 & 0 & \\dotso & \\langle v_n, e_n \\rangle\n",
    "\\end{pmatrix}$$"
   ]
  },
  {
   "cell_type": "code",
   "execution_count": 11,
   "metadata": {},
   "outputs": [],
   "source": [
    "\"\"\"\n",
    "# INPUT : rectangular matrix A\n",
    "# OUTPUT: matrices Q - orthogonal and R - upper triangular such that A = QR\n",
    "def gram_schmidt_qr(A): # 5 pts\n",
    "    assert A.shape[0] >= A.shape[1], 'm is not >= n'\n",
    "    new_vectors = np.zeros((A.shape[0],A.shape[1]))\n",
    "    for i in range(A.shape[1]):\n",
    "        new_vectors[:,i] = A[:,i]\n",
    "        for j in range(i):\n",
    "            new_vectors[:,i] -= (np.dot(A[:,i], new_vectors[:,j])/np.dot(new_vectors[:,j],new_vectors[:,j])) * new_vectors[:,j]\n",
    "    \n",
    "    # normalization\n",
    "    for i in range(new_vectors.shape[1]):\n",
    "        new_vectors[:,i] /= np.linalg.norm(new_vectors[:,i])\n",
    "    Q = new_vectors\n",
    "    R = np.zeros((A.shape[1],A.shape[1]))\n",
    "    for i in range(A.shape[1]):\n",
    "        for j in range(i, A.shape[1]):\n",
    "            R[i,j] = np.dot(A[:,j], new_vectors[:,i])\n",
    "    return Q, R\n",
    "\n",
    "def modified_gram_schmidt_qr(A): # 5 pts\n",
    "    assert A.shape[0] >= A.shape[1], 'm is not >= n'\n",
    "    new_vectors = np.zeros((A.shape[0],A.shape[1]))\n",
    "    for i in range(A.shape[1]):\n",
    "        new_vectors[:,i] = A[:,i]\n",
    "        if i > 0:\n",
    "            new_vectors[:,i] -= (np.dot(A[:,i], new_vectors[:,0])/np.dot(new_vectors[:,0],new_vectors[:,0])) * new_vectors[:,0]\n",
    "        \n",
    "        for j in range(1,i):\n",
    "            new_vectors[:,i] -= (np.dot(new_vectors[:,i], new_vectors[:,j])/np.dot(new_vectors[:,j],new_vectors[:,j])) * new_vectors[:,j]\n",
    "        \n",
    "    # normalization\n",
    "    for i in range(new_vectors.shape[1]):\n",
    "        new_vectors[:,i] /= np.linalg.norm(new_vectors[:,i])\n",
    "    Q = new_vectors\n",
    "    R = np.zeros((A.shape[1],A.shape[1]))\n",
    "    for i in range(A.shape[1]):\n",
    "        for j in range(i, A.shape[1]):\n",
    "            R[i,j] = np.dot(A[:,j], new_vectors[:,i])\n",
    "    return Q, R\n",
    "\"\"\""
   ]
  },
  {
   "cell_type": "code",
   "execution_count": 3,
   "metadata": {},
   "outputs": [],
   "source": [
    "def create_vandermonde(n=20):\n",
    "    x = np.linspace(0,1,n)\n",
    "    V = np.ones((n,n))\n",
    "    for i in range(1, n):\n",
    "        for j in range(n):\n",
    "            V[:,i][j] = x[j]**i\n",
    "            \n",
    "    return V"
   ]
  },
  {
   "cell_type": "code",
   "execution_count": null,
   "metadata": {},
   "outputs": [],
   "source": [
    "from pset2 import gram_schmidt_qr\n",
    "from pset2 import modified_gram_schmidt_qr"
   ]
  },
  {
   "cell_type": "code",
   "execution_count": 97,
   "metadata": {},
   "outputs": [
    {
     "data": {
      "text/plain": [
       "9.971865141713504"
      ]
     },
     "execution_count": 97,
     "metadata": {},
     "output_type": "execute_result"
    }
   ],
   "source": [
    "Q1, R1 = gram_schmidt_qr(create_vandermonde())\n",
    "np.linalg.norm(np.dot(Q1.transpose(), Q1) - np.eye(Q1.shape[0]), ord=2)"
   ]
  },
  {
   "cell_type": "code",
   "execution_count": 98,
   "metadata": {},
   "outputs": [
    {
     "data": {
      "text/plain": [
       "0.12388279400623767"
      ]
     },
     "execution_count": 98,
     "metadata": {},
     "output_type": "execute_result"
    }
   ],
   "source": [
    "Q2, R2 = modified_gram_schmidt_qr(create_vandermonde())\n",
    "np.linalg.norm(np.dot(Q2.transpose(), Q2) - np.eye(Q2.shape[0]), ord=2)"
   ]
  },
  {
   "cell_type": "markdown",
   "metadata": {},
   "source": [
    "As we can see the error is really reduced. \n",
    "\n",
    "This method decreases the error because we orthogonolize to the error on each step, so we don't accumulate the error in process of iteration."
   ]
  },
  {
   "cell_type": "code",
   "execution_count": 96,
   "metadata": {},
   "outputs": [
    {
     "data": {
      "text/plain": [
       "1.1800881680116366e-15"
      ]
     },
     "execution_count": 96,
     "metadata": {},
     "output_type": "execute_result"
    }
   ],
   "source": [
    "Q,R = np.linalg.qr(create_vandermonde())\n",
    "np.linalg.norm(np.dot(Q.transpose(), Q) - np.eye(Q.shape[0]), ord=2)"
   ]
  },
  {
   "cell_type": "markdown",
   "metadata": {},
   "source": [
    "But numpy is still better =("
   ]
  },
  {
   "cell_type": "markdown",
   "metadata": {},
   "source": [
    "### 2. Householder QR (10 pts)\n",
    "\n",
    "* (7 pts) Implement algorithm for computing QR decomposition based on Householder reflections as a function ```householder_qr(A)``` that takes a rectangular matrix ```A``` and outputs ```Q,R```.\n",
    "\n",
    "\n",
    "* (2 pts) Apply it to the Vandermonde matrix $V$ created above. Print out the error $\\|Q^{\\top}Q-I\\|_2$, where $Q$ is given by ```householder_qr(A)```. Compare it to the corresponding results of Gram-Schmidt and modified Gram-Schmidt algorithms and comment on it. \n",
    "\n",
    "\n",
    "\n",
    "* (3 pts) For values of $n = \\{2,25,100,250,500\\}$, create a $B\\in\\mathbb{R}^{n\\times n}$ and an upper triangular matrix $R\\in\\mathbb{R}^{n\\times n}$ both filled with standard normal entries. Use ```numpy``` (or ```scipy```) built-in QR decomposition function to obtain a random orthogonal matrix $Q$ from the decomposition of $B$. Then compute $A = QR$ and apply your Gram-Schmidt and Householder algorithms to find the $Q$ and $R$ factors of $A$ – denoted as $\\hat{Q}$ and $\\hat{R}$. \n",
    "Calculate relative errors\n",
    "$$\\frac{\\|R-\\hat{R}\\|_2}{\\|R\\|_2}, \\frac{\\|Q-\\hat{Q}\\|_2}{\\|Q\\|_2}, \\frac{\\|A-\\hat{Q}\\hat{R}\\|_2}{\\|A\\|_2}$$ \n",
    "for each value of $n$ and for both algorithms. \n",
    "**Note:** scale (multiply corresponding rows/columns by -1) $Q, R,\\hat{Q},\\hat{R}$ such that diagonal elements of $R$ and $\\hat{R}$ be positive.    \n",
    "    * Comment on the relative errors in $Q$ and $R$ (forward error) compared to ones in $QR$ (backward error).\n",
    "    * Comment on the backward error obtained for Gram-Schmidt compared to Householder.   "
   ]
  },
  {
   "cell_type": "code",
   "execution_count": 7,
   "metadata": {},
   "outputs": [],
   "source": [
    "def householder_qr(A): # 7 pts\n",
    "    assert A.shape[0] >= A.shape[1], 'm is not >= n'\n",
    "    E = np.eye(A.shape[0])\n",
    "    R = A\n",
    "    Q = E\n",
    "    for i in range(np.min((A.shape[0], A.shape[1]))-1):\n",
    "        x = A[i:,:][:,i]\n",
    "        E = np.eye(x.shape[0])\n",
    "        e1 = E[:,0]\n",
    "        u = (x-np.linalg.norm(x)*e1)/np.sqrt(2*(np.linalg.norm(x)**2 - np.linalg.norm(x)*x[0]))\n",
    "        H = E - 2*np.dot(u.reshape(u.shape[0],1),u.reshape(1,u.shape[0]))\n",
    "        H_big = np.eye(A.shape[0])\n",
    "        H_big[i:,i:] = H\n",
    "        H = H_big\n",
    "        R[:,i] = np.dot(H, R[:,i])\n",
    "        Q = np.dot(H, Q)\n",
    "        \n",
    "    Q = Q.transpose()\n",
    "    return Q, R"
   ]
  },
  {
   "cell_type": "code",
   "execution_count": null,
   "metadata": {},
   "outputs": [],
   "source": [
    "# Implement the function in the pset2.py file\n",
    "from pset2 import householder_qr"
   ]
  },
  {
   "cell_type": "code",
   "execution_count": 8,
   "metadata": {},
   "outputs": [
    {
     "data": {
      "text/plain": [
       "2.531883587802937e-15"
      ]
     },
     "execution_count": 8,
     "metadata": {},
     "output_type": "execute_result"
    }
   ],
   "source": [
    "Q3, R3 = householder_qr(create_vandermonde())\n",
    "np.linalg.norm(np.dot(Q3.transpose(), Q3) - np.eye(Q3.shape[0]), ord=2)"
   ]
  },
  {
   "cell_type": "code",
   "execution_count": 14,
   "metadata": {},
   "outputs": [],
   "source": [
    "ns = [2, 25, 100, 250, 500]\n",
    "mu, sigma = 0, 0.1 # mean and standard deviation\n",
    "rel_error_modified_gsch = []\n",
    "rel_error_householder = []\n",
    "for n in ns:\n",
    "    s = np.random.normal(mu, sigma, n*n)\n",
    "    B = s.reshape((n,n))\n",
    "    s = np.random.normal(mu, sigma, n*n)\n",
    "    R_rand = s.reshape((n,n))\n",
    "    for i in range(R_rand.shape[0]):\n",
    "        for j in range(i):\n",
    "            R_rand[i,j] = 0.0\n",
    "    Q,R = np.linalg.qr(B)\n",
    "    A = np.dot(Q,R)\n",
    "    Qx,Rx = modified_gram_schmidt_qr(A)\n",
    "    rel_error_modified_gsch.append([\n",
    "        np.linalg.norm(R-Rx,ord=2)/np.linalg.norm(R, ord=2),\n",
    "        np.linalg.norm(Q-Qx,ord=2)/np.linalg.norm(Q, ord=2),\n",
    "        np.linalg.norm(A-np.dot(Qx,Rx),ord=2)/np.linalg.norm(A, ord=2),\n",
    "    ])\n",
    "    \n",
    "    Qx,Rx = householder_qr(A)\n",
    "    rel_error_householder.append([\n",
    "        np.linalg.norm(R-Rx,ord=2)/np.linalg.norm(R, ord=2),\n",
    "        np.linalg.norm(Q-Qx,ord=2)/np.linalg.norm(Q, ord=2),\n",
    "        np.linalg.norm(A-np.dot(Qx,Rx),ord=2)/np.linalg.norm(A, ord=2),\n",
    "    ])\n",
    "\n",
    "rel_error_modified_gsch = np.array(rel_error_modified_gsch)\n",
    "rel_error_householder = np.array(rel_error_householder)"
   ]
  },
  {
   "cell_type": "code",
   "execution_count": 18,
   "metadata": {},
   "outputs": [
    {
     "data": {
      "image/png": "[encoded data removed]",
      "text/plain": [
       "<Figure size 1152x648 with 3 Axes>"
      ]
     },
     "metadata": {
      "needs_background": "light"
     },
     "output_type": "display_data"
    }
   ],
   "source": [
    "import matplotlib.pyplot as plt\n",
    "plt.figure(figsize=(16,9))\n",
    "\n",
    "plt.subplot(3,1,1)\n",
    "\n",
    "plt.plot(ns, rel_error_modified_gsch[:,0])\n",
    "plt.plot(ns, rel_error_householder[:,0])\n",
    "\n",
    "plt.legend(['modified gram schmidt', 'householder qr'])\n",
    "plt.title('R matrix relative error')\n",
    "plt.xlabel('Size of matrix')\n",
    "plt.ylabel('Relative error')\n",
    "\n",
    "plt.subplot(3,1,2)\n",
    "\n",
    "plt.plot(ns, rel_error_modified_gsch[:,1])\n",
    "plt.plot(ns, rel_error_householder[:,1])\n",
    "\n",
    "plt.legend(['modified gram schmidt', 'householder qr'])\n",
    "plt.title('Q matrix relative error')\n",
    "plt.xlabel('Size of matrix')\n",
    "plt.ylabel('Relative error')\n",
    "\n",
    "plt.subplot(3,1,3)\n",
    "\n",
    "plt.plot(ns, rel_error_modified_gsch[:,2])\n",
    "plt.plot(ns, rel_error_householder[:,2])\n",
    "\n",
    "plt.legend(['modified gram schmidt', 'householder qr'])\n",
    "plt.title('A matrix relative error')\n",
    "plt.xlabel('Size of matrix')\n",
    "plt.ylabel('Relative error')\n",
    "plt.tight_layout()\n",
    "plt.show()"
   ]
  },
  {
   "cell_type": "markdown",
   "metadata": {},
   "source": [
    "## Problem 3 (Word2Vec as Matrix Factorization) 45 pts\n",
    "\n",
    "In this assignment you are supposed to apply SVD to training your own [word embedding model](https://en.wikipedia.org/wiki/Word_embedding) which maps English words to vectors of real numbers.\n",
    "\n",
    "Skip-Gram Negative Sampling (SGNS) word embedding model, commonly known as **word2vec** ([Mikolov et al., 2013](http://papers.nips.cc/paper/5021-distributed-representations-of-words-and-phrases-and-their-compositionality.pdf)), is usually optimized by stochastic gradient descent. However, the optimization of SGNS objective can be viewed as implicit matrix factorization objective as was shown in ([Levy and Goldberg, 2015](http://papers.nips.cc/paper/5477-neural-word-embedding-as-implicit-matrix-factorization.pdf))."
   ]
  },
  {
   "cell_type": "markdown",
   "metadata": {},
   "source": [
    "###### 1. Notation\n",
    "Assume we have a text corpus given as a sequence of words $\\{w_1,w_2,\\dots,w_n\\}$ where $n$ may be larger than $10^{12}$ and $w_i \\in \\mathcal{V}$ belongs to a vocabulary of words $\\mathcal{V}$. A word $c \\in \\mathcal{V}$ is called *a context* of word $w_i$ if they are found together in the text. More formally, given some measure $L$ of closeness between two words (typical choice is $L=2$), a word $c \\in \\mathcal{V}$ is called a context if $c \\in \\{w_{i-L}, \\dots, w_{i-1}, w_{i+1}, \\dots, w_{i+L} \\}$ Let $\\mathbf{w},\\mathbf{c}\\in\\mathbb{R}^d$ be the *word embeddings* of word $w$ and context $c$, respectively. Assume they are specified by the mapping  $\\Phi:\\mathcal{V}\\rightarrow\\mathbb{R}^d$, so $\\mathbf{w}=\\Phi(w)$. The ultimate goal of SGNS word embedding model is to fit a good mapping $\\Phi$.\n",
    "\n",
    "Let $\\mathcal{D}$ be a multiset of all word-contexts pairs observed in the corpus. In the SGNS model, the probability that word-context pair $(w,c)$ is observed in the corpus is modeled as the following distribution:\n",
    "\n",
    "$$\n",
    "P(\\#(w,c)\\neq 0|w,c) = \\sigma(\\mathbf{w}^\\top \\mathbf{c}) = \\frac{1}{1 + \\exp(-\\mathbf{w}^\\top \\mathbf{c})},\n",
    "$$\n",
    "\n",
    "where $\\#(w,c)$ is the number of times the pair $(w,c)$ appears in $\\mathcal{D}$ and $\\mathbf{w}^\\top\\mathbf{c}$ is the scalar product of vectors $\\mathbf{w}$ and $\\mathbf{c}$. Two important quantities which we will also use further are the number of times the word $w$ and the context $c$ appear in $\\mathcal{D}$, which can be computed as\n",
    "\n",
    "$$\n",
    "\\#(w) = \\sum_{c\\in\\mathcal{V}} \\#(w,c), \\quad \\#(c) = \\sum_{w\\in\\mathcal{V}} \\#(w,c).\n",
    "$$\n"
   ]
  },
  {
   "cell_type": "markdown",
   "metadata": {},
   "source": [
    "###### 2. Optimization objective"
   ]
  },
  {
   "cell_type": "markdown",
   "metadata": {},
   "source": [
    "Vanilla word embedding models are trained by maximizing log-likelihood of observed word-context pairs, namely\n",
    "\n",
    "$$\n",
    "\\mathcal{L} = \\sum_{w \\in \\mathcal{V}} \\sum_{c \\in \\mathcal{V}} \\#(w,c) \\log \\sigma(\\mathbf{w}^\\top\\mathbf{c}) \\rightarrow \\max_{\\mathbf{w},\\mathbf{c} \\in \\mathbb{R}^d}.\n",
    "$$"
   ]
  },
  {
   "cell_type": "markdown",
   "metadata": {},
   "source": [
    "Skip-Gram Negative Sampling approach modifies the objective by additionally minimizing the log-likelihood of random word-context pairs, so called *negative samples*. This idea incorporates some useful linguistic information that some number ($k$, usually $k=5$) of word-context pairs *are not* found together in the corpus which usually results in word embeddings of higher quality. The resulting optimization problem is\n",
    "\n",
    "$$\n",
    "\\mathcal{L} = \\sum_{w \\in \\mathcal{V}} \\sum_{c \\in \\mathcal{V}} \\left( \\#(w,c) \\log \\sigma(\\mathbf{w}^\\top\\mathbf{c}) + k \\cdot \\mathbb{E}_{c'\\sim P_\\mathcal{D}} \\log \\sigma (-\\mathbf{w}^\\top\\mathbf{c}) \\right) \\rightarrow \\max_{\\mathbf{w},\\mathbf{c} \\in \\mathbb{R}^d},\n",
    "$$\n",
    "\n",
    "where $P_\\mathcal{D}(c)=\\frac{\\#(c)}{|\\mathcal{D}|}$ is a probability distribution over word contexts from which negative samples are drawn."
   ]
  },
  {
   "cell_type": "markdown",
   "metadata": {},
   "source": [
    "[Levy and Goldberg, 2015](http://papers.nips.cc/paper/5477-neural-word-embedding-as-implicit-matrix-factorization.pdf) showed that this objective can be equivalently written as\n",
    "\n",
    "$$\n",
    "\\mathcal{L} = \\sum_{w \\in \\mathcal{V}} \\sum_{c \\in \\mathcal{V}} f(w,c) = \\sum_{w \\in \\mathcal{V}} \\sum_{c \\in \\mathcal{V}} \\left( \\#(w,c) \\log \\sigma(\\mathbf{w}^\\top\\mathbf{c}) + \\frac{k\\cdot\\#(w)\\cdot\\#(c)}{|\\mathcal{D}|} \\log \\sigma (-\\mathbf{w}^\\top\\mathbf{c}) \\right) \\rightarrow \\max_{\\mathbf{w},\\mathbf{c} \\in \\mathbb{R}^d},\n",
    "$$\n",
    "\n",
    "A crucial observation is that this loss function depends only on the scalar product $\\mathbf{w}^\\top\\mathbf{c}$ but not on embedding $\\mathbf{w}$ and $\\mathbf{c}$ separately."
   ]
  },
  {
   "cell_type": "markdown",
   "metadata": {},
   "source": [
    "###### 3. Matrix factorization problem statement"
   ]
  },
  {
   "cell_type": "markdown",
   "metadata": {},
   "source": [
    "Let $|\\mathcal{V}|=m$, $W \\in \\mathbb{R}^{m\\times d}$ and $C \\in \\mathbb{R}^{m\\times d}$ be matrices, where each row $\\mathbf{w}\\in\\mathbb{R}^d$ of matrix $W$ is the word embedding of the corresponding word $w$ and each row $\\mathbf{c}\\in\\mathbb{R}^d$ of matrix $C$ is the context embedding of the corresponding context $c$. SGNS embeds both words and their contexts into a low-dimensional space $\\mathbb{R}^d$, resulting in the word and context matrices $W$ and $C$. The rows of matrix $W$ are typically used in NLP tasks (such as computing word similarities) while $C$ is ignored. It is nonetheless instructive to consider the product $W^\\top C = M$. Viewed this way, SGNS can be described as factorizing an implicit matrix $M$ of dimensions $m \\times m$ into two smaller matrices.\n",
    "\n",
    "Which matrix is being factorized? A matrix entry $M_{wc}$ corresponds to the dot product $\\mathbf{w}^\\top\\mathbf{c}$ . Thus, SGNS is factorizing a matrix in which each row corresponds to a word $w \\in \\mathcal{V}$ , each column corresponds to a context $c \\in \\mathcal{V}$, and each cell contains a quantity $f(w,c)$ reflecting the strength of association between that particular word-context pair. Such word-context association matrices are very common in the NLP and word-similarity literature. That said, the objective of SGNS does not explicitly state what this association metric is. What can we say about the association function $f(w,c)$? In other words, which matrix is SGNS factorizing? Below you will find the answers."
   ]
  },
  {
   "cell_type": "markdown",
   "metadata": {},
   "source": [
    "### Task 1 (theoretical) 5 pts"
   ]
  },
  {
   "cell_type": "markdown",
   "metadata": {},
   "source": [
    "Solve SGNS optimization problem with respect to the $\\mathbf{w}^\\top\\mathbf{c}$ and show that the matrix being factorized is\n",
    "\n",
    "$$\n",
    "M_{wc} = \\mathbf{w}^\\top\\mathbf{c} = \\log \\left( \\frac{\\#(w,c) \\cdot |\\mathcal{D}|}{k\\cdot\\#(w)\\cdot\\#(c)} \\right)\n",
    "$$\n",
    "\n",
    "**Hint:** Denote $x=\\mathbf{w}^\\top\\mathbf{c}$, rewrite SGNG optimization problem in terms of $x$ and solve it."
   ]
  },
  {
   "cell_type": "markdown",
   "metadata": {},
   "source": [
    "**Note:** This matrix is called Shifted Pointwise Mutual Information (SPMI) matrix, as its elements can be written as\n",
    "\n",
    "$$\n",
    "\\text{SPMI}(w,c) = M_{wc} = \\mathbf{w}^\\top\\mathbf{c} = \\text{PMI}(w,c) - \\log k\n",
    "$$\n",
    "\n",
    "and $\\text{PMI}(w,c) = \\log \\left( \\frac{\\#(w,c) \\cdot |\\mathcal{D}|}{\\#(w)\\cdot\\#(c)} \\right)$ is the well-known [pointwise mutual information](https://en.wikipedia.org/wiki/Pointwise_mutual_information) of $(w,c)$."
   ]
  },
  {
   "cell_type": "markdown",
   "metadata": {},
   "source": [
    "*Theoretical task solution*\n",
    "\n",
    "$$\n",
    "\\mathcal{L} = \\sum_{w \\in \\mathcal{V}} \\sum_{c \\in \\mathcal{V}} f(w,c) = \\sum_{w \\in \\mathcal{V}} \\sum_{c \\in \\mathcal{V}} \\left( \\#(w,c) \\log \\sigma(\\mathbf{w}^\\top\\mathbf{c}) + \\frac{k\\cdot\\#(w)\\cdot\\#(c)}{|\\mathcal{D}|} \\log \\sigma (-\\mathbf{w}^\\top\\mathbf{c}) \\right) \\rightarrow \\max_{\\mathbf{w},\\mathbf{c} \\in \\mathbb{R}^d},\n",
    "$$\n",
    "\n",
    "Let's denote $\\mathbf{w}^\\top\\mathbf{c} \\equiv x$ (scalar variable)\n",
    "\n",
    "$$\n",
    "\\frac{d f}{dx} = \\sum \\sum \\#(\\omega , c) \\cdot \\frac{1}{\\sigma(x)} \\cdot \\frac{d \\sigma(x)}{dx} + \\frac{k\\#(\\omega)\\#(c)}{|D|} \\frac{1}{\\sigma(-x)}\\frac{d\\sigma(-x)}{dx} = 0\n",
    "$$\n",
    "\n",
    "$$\n",
    "\\#(w,c)\\frac{1+\\exp{-x}}{1}\\frac{\\exp{-x}}{(1+\\exp{-x})^2} = \\frac{k\\#(\\omega)\\#(c)}{|D|}\\frac{1+\\exp{x}}{1}\\frac{\\exp{x}}{(1+\\exp{x})^2}\n",
    "$$\n",
    "\n",
    "$$\n",
    "\\frac{\\#(\\omega, c)|D|}{k\\#(\\omega)\\#(c)} = \\exp{x}\n",
    "$$\n",
    "\n",
    "$$\n",
    "\\ln{\\frac{\\#(\\omega, c)|D|}{k\\#(\\omega)\\#(c)}}=x\n",
    "$$"
   ]
  },
  {
   "cell_type": "markdown",
   "metadata": {},
   "source": [
    "### Task 2 (practical) 40 pts"
   ]
  },
  {
   "cell_type": "code",
   "execution_count": 2,
   "metadata": {},
   "outputs": [],
   "source": [
    "import os\n",
    "import numpy as np\n",
    "from sklearn.metrics.pairwise import cosine_similarity\n",
    "from scipy.sparse.linalg import svds"
   ]
  },
  {
   "cell_type": "markdown",
   "metadata": {},
   "source": [
    "1. Download dataset [enwik8](http://mattmahoney.net/dc/enwik8.zip) of compressed Wikipedia articles and preprocess raw data with Perl script **main_.pl**. This script will clean all unnecessary symbols, make all words to lowercase, and produce only sentences with words.\n",
    "```\n",
    "wget http://mattmahoney.net/dc/enwik8.zip\n",
    "unzip enwik8.zip\n",
    "mkdir data\n",
    "perl main_.pl enwik8 > data/enwik8.txt\n",
    "```"
   ]
  },
  {
   "cell_type": "code",
   "execution_count": 3,
   "metadata": {},
   "outputs": [],
   "source": [
    "# Load enwik 8\n",
    "data = np.loadtxt(\"data/enwik8.txt\", dtype=str, delimiter='.')\n",
    "\n",
    "# Create a list of sentences\n",
    "sentences = [data[i].split() for i in data.nonzero()[0]]"
   ]
  },
  {
   "cell_type": "code",
   "execution_count": 4,
   "metadata": {
    "scrolled": true
   },
   "outputs": [
    {
     "name": "stdout",
     "output_type": "stream",
     "text": [
      "['achilles', 'wrath', 'is', 'terrible', 'and', 'he', 'slays', 'many', 'trojan', 'warriors', 'and', 'allies', 'including', 'priam', 's', 'son', 'lycaon', 'whom', 'achilles', 'had', 'previously', 'captured', 'and', 'sold', 'into', 'slavery', 'but', 'who', 'had', 'been', 'returned', 'to', 'troy']\n"
     ]
    }
   ],
   "source": [
    "print (sentences[1249])"
   ]
  },
  {
   "cell_type": "markdown",
   "metadata": {},
   "source": [
    "2. Construct the word vocabulary from the obtained sentences which enumerates words which occur more than $r=200$ times in the corpus."
   ]
  },
  {
   "cell_type": "code",
   "execution_count": 5,
   "metadata": {},
   "outputs": [],
   "source": [
    "def create_vocabulary(sentences, r=200):\n",
    "    vocabulary = set()\n",
    "    wc = dict()\n",
    "    for sent in sentences:\n",
    "        for word in sent:\n",
    "            if word not in wc:\n",
    "                wc[word] = 1\n",
    "            else:\n",
    "                wc[word] += 1\n",
    "    for key, value in wc.items():\n",
    "        if value >= r:\n",
    "            vocabulary.add(key)\n",
    "    return vocabulary"
   ]
  },
  {
   "cell_type": "code",
   "execution_count": 6,
   "metadata": {},
   "outputs": [],
   "source": [
    "vocab = create_vocabulary(sentences)"
   ]
  },
  {
   "cell_type": "markdown",
   "metadata": {},
   "source": [
    "3. Scan the text corpus with sliding window of size $5$ and step $1$ (which corresponds to $L$=2) and construct co-occurrence word-context matrix $D$ with elements $D_{wc}=\\#(w,c)$. Please, ignore words which occur less than $r=200$ times, but include them into the sliding window. Please, see the graphical illustration of the procedure described."
   ]
  },
  {
   "cell_type": "markdown",
   "metadata": {},
   "source": [
    "![Sliding window](sliding_window.png)"
   ]
  },
  {
   "cell_type": "code",
   "execution_count": 7,
   "metadata": {},
   "outputs": [],
   "source": [
    "def create_corpus_matrix(sentences, vocabulary):\n",
    "    from math import ceil, floor\n",
    "    window = 5\n",
    "    L = 2\n",
    "    corpus_matrix = np.zeros((len(vocabulary),len(vocabulary)))\n",
    "    words_dict_idx = dict()\n",
    "    i = 0\n",
    "    for word in vocabulary:\n",
    "        words_dict_idx[word] = i\n",
    "        i+=1\n",
    "    \n",
    "    for sent in sentences:\n",
    "        for i in range(len(sent)):\n",
    "            left = i - floor(window/2)\n",
    "            right = i + ceil(window/2)\n",
    "            padding = 0\n",
    "            if left < 0:\n",
    "                padding = abs(left)\n",
    "                left = 0\n",
    "                \n",
    "            if right > len(sent):\n",
    "                right = len(sent)\n",
    "                \n",
    "            cut = sent[left:right]            \n",
    "            \n",
    "            middle_word = sent[i]\n",
    "            if middle_word in words_dict_idx:\n",
    "                idx = words_dict_idx[middle_word]\n",
    "                middle_word_idx_in_cut = floor(window/2) - padding\n",
    "\n",
    "                for elem in cut[middle_word_idx_in_cut+1:]:\n",
    "                    if elem in words_dict_idx:\n",
    "                        corpus_matrix[idx, words_dict_idx[elem]] += 1\n",
    "\n",
    "                for elem in cut[:middle_word_idx_in_cut]:\n",
    "                    if elem in words_dict_idx:\n",
    "                        corpus_matrix[idx, words_dict_idx[elem]] += 1\n",
    "    return corpus_matrix"
   ]
  },
  {
   "cell_type": "code",
   "execution_count": 8,
   "metadata": {},
   "outputs": [],
   "source": [
    "D = create_corpus_matrix(sentences, vocab)"
   ]
  },
  {
   "cell_type": "markdown",
   "metadata": {},
   "source": [
    "4. To find good word embeddings, [Levy and Goldberg, 2015](http://papers.nips.cc/paper/5477-neural-word-embedding-as-implicit-matrix-factorization.pdf) proposed to find rank-$d$ SVD of Shifted Positive Pointwise Mutual Information (SPPMI) matrix\n",
    "\n",
    "$$\n",
    "U \\Sigma V^\\top \\approx \\text{SPPMI},\n",
    "$$\n",
    "\n",
    "where $\\text{SPPMI}(w, c) = \\max\\left(\\text{SPMI}(w, c), 0 \\right)$ and $\\text{SPMI}(w, c)$ is the element of the matrix $\\text{SPPMI}$ at position $(w, c)$.\n",
    "Then use $W=U\\sqrt{\\Sigma}$ as word embedding matrix. Your task is to reproduce their results. Write function constructs $\\text{SPPMI}$ matrix, computes its SVD and produces word-vectors matrix $W$. Pay attention that $\\text{SPPMI}$ matrix is **sparse**!  "
   ]
  },
  {
   "cell_type": "code",
   "execution_count": 9,
   "metadata": {},
   "outputs": [],
   "source": [
    "from scipy import sparse\n",
    "from numba import jit\n",
    "\n",
    "@jit(parallel=True)\n",
    "def create_M(D,voc_size):\n",
    "    M = np.zeros((voc_size, voc_size))\n",
    "    s = np.sum(D)\n",
    "    for i in range(D.shape[0]):\n",
    "        for j in range(D.shape[1]):\n",
    "            nwc = D[i,j]\n",
    "            nw = np.sum(D[i,:])\n",
    "            nc = np.sum(D[j,:])\n",
    "            M[i,j] = np.max([np.log((nwc*s)/(k*nw*nc)), 0.0])\n",
    "    return M\n",
    "\n",
    "def compute_embeddings(D, k, d=200):\n",
    "    voc_size = D.shape[0]\n",
    "    M = create_M(D,voc_size)\n",
    "    \n",
    "    print(\"Ended to calculate M\")\n",
    "    \n",
    "    M_sparse = sparse.csr_matrix(M) \n",
    "    u,s,v = svds(M_sparse, k=d)\n",
    "    embedding_matrix = np.dot(u, np.diag(np.sqrt(s)))\n",
    "    return embedding_matrix"
   ]
  },
  {
   "cell_type": "code",
   "execution_count": 10,
   "metadata": {},
   "outputs": [
    {
     "name": "stderr",
     "output_type": "stream",
     "text": [
      "/home/dmitriy/MyEnv/other/skoltech/nla/env/lib/python3.5/site-packages/ipykernel_launcher.py:18: RuntimeWarning: divide by zero encountered in log\n"
     ]
    },
    {
     "name": "stdout",
     "output_type": "stream",
     "text": [
      "Ended to calculate M\n"
     ]
    }
   ],
   "source": [
    "k = 5 # negative sampling parameter\n",
    "W = compute_embeddings(D, k)"
   ]
  },
  {
   "cell_type": "markdown",
   "metadata": {},
   "source": [
    "5. Write class **WordVectors** using provided template."
   ]
  },
  {
   "cell_type": "code",
   "execution_count": 11,
   "metadata": {},
   "outputs": [],
   "source": [
    "from scipy.spatial.distance import cosine\n",
    "\n",
    "class WordVectors:\n",
    "    \n",
    "    def __init__(self, vocabulary, embedding_matrix):\n",
    "        #self.vocab = vocabulary\n",
    "        self.W = embedding_matrix\n",
    "        i = 0\n",
    "        self.vocab = dict()\n",
    "        for word in vocabulary:\n",
    "            self.vocab[i] = word\n",
    "            i+=1\n",
    "        self.inv_vocab = {v: k for k, v in self.vocab.items()}\n",
    "        \n",
    "    def word_vector(self, word):\n",
    "        \"\"\" \n",
    "        Takes word and returns its word vector.\n",
    "        \"\"\"\n",
    "        return self.W[self.inv_vocab[word]]\n",
    "    \n",
    "    def nearest_words(self, word, top_n=10):\n",
    "        \"\"\" \n",
    "        Takes word from the vocabulary and returns its top_n\n",
    "        nearest neighbors in terms of cosine similarity.\n",
    "        \"\"\"\n",
    "        neighbors = []\n",
    "        similarity = cosine_similarity(W, W)\n",
    "        idx = self.inv_vocab[word]\n",
    "        similarity_for_word = similarity[idx]\n",
    "        for i in range(len(similarity_for_word)):\n",
    "            neighbors.append((self.vocab[i], similarity_for_word[i]))\n",
    "        neighbors = sorted(neighbors, key=lambda x: x[1])[::-1]\n",
    "        return neighbors[1:top_n+1]"
   ]
  },
  {
   "cell_type": "code",
   "execution_count": 12,
   "metadata": {},
   "outputs": [],
   "source": [
    "model = WordVectors(vocab, W)"
   ]
  },
  {
   "cell_type": "code",
   "execution_count": 13,
   "metadata": {},
   "outputs": [
    {
     "data": {
      "text/plain": [
       "[('communism', 0.7916811289121275),\n",
       " ('anarcho', 0.7866274463952013),\n",
       " ('capitalism', 0.7835661470696681),\n",
       " ('socialism', 0.7521567332112499),\n",
       " ('liberalism', 0.727094233727135),\n",
       " ('criticisms', 0.704527732193991),\n",
       " ('capitalist', 0.6621936235916165),\n",
       " ('fascism', 0.5649384550242023),\n",
       " ('anarchist', 0.5273477653209672),\n",
       " ('marxist', 0.5183360211065147)]"
      ]
     },
     "execution_count": 13,
     "metadata": {},
     "output_type": "execute_result"
    }
   ],
   "source": [
    "model.nearest_words(\"anarchism\")"
   ]
  },
  {
   "cell_type": "code",
   "execution_count": 13,
   "metadata": {},
   "outputs": [
    {
     "data": {
      "text/plain": [
       "[('communism', 0.792),\n",
       " ('anarcho', 0.787),\n",
       " ('capitalism', 0.784),\n",
       " ('socialism', 0.752),\n",
       " ('liberalism', 0.727),\n",
       " ('criticisms', 0.705),\n",
       " ('capitalist', 0.662),\n",
       " ('fascism', 0.565),\n",
       " ('anarchist', 0.527),\n",
       " ('marxist', 0.518)]"
      ]
     },
     "execution_count": 13,
     "metadata": {},
     "output_type": "execute_result"
    }
   ],
   "source": [
    "model.nearest_words(\"anarchism\")"
   ]
  },
  {
   "cell_type": "code",
   "execution_count": 14,
   "metadata": {},
   "outputs": [
    {
     "data": {
      "text/plain": [
       "[('ukraine', 0.6713467751746178),\n",
       " ('russia', 0.629337163206852),\n",
       " ('poland', 0.5504100164313642),\n",
       " ('belarus', 0.5384153768355007),\n",
       " ('yugoslavia', 0.5382061955624559),\n",
       " ('romania', 0.5171634039123149),\n",
       " ('serbia', 0.5066973712518851),\n",
       " ('austria', 0.49986558762309763),\n",
       " ('hungary', 0.4661741964233219),\n",
       " ('bulgaria', 0.4298324837036329)]"
      ]
     },
     "execution_count": 14,
     "metadata": {},
     "output_type": "execute_result"
    }
   ],
   "source": [
    "model.nearest_words(\"ussr\")"
   ]
  },
  {
   "cell_type": "code",
   "execution_count": 14,
   "metadata": {},
   "outputs": [
    {
     "data": {
      "text/plain": [
       "[('ukraine', 0.671),\n",
       " ('russia', 0.629),\n",
       " ('poland', 0.55),\n",
       " ('belarus', 0.538),\n",
       " ('yugoslavia', 0.538),\n",
       " ('romania', 0.517),\n",
       " ('serbia', 0.507),\n",
       " ('austria', 0.5),\n",
       " ('hungary', 0.466),\n",
       " ('bulgaria', 0.43)]"
      ]
     },
     "execution_count": 14,
     "metadata": {},
     "output_type": "execute_result"
    }
   ],
   "source": [
    "model.nearest_words(\"ussr\")"
   ]
  },
  {
   "cell_type": "code",
   "execution_count": 15,
   "metadata": {},
   "outputs": [
    {
     "data": {
      "text/plain": [
       "[('hop', 0.8283432918295276),\n",
       " ('hip', 0.8165784239590631),\n",
       " ('funk', 0.757762866828034),\n",
       " ('rock', 0.7365094164302786),\n",
       " ('punk', 0.7063020806986648),\n",
       " ('music', 0.6759486602583826),\n",
       " ('pop', 0.6662904298474872),\n",
       " ('scene', 0.6589626455111236),\n",
       " ('band', 0.6568244450058129),\n",
       " ('jazz', 0.6249604429360496)]"
      ]
     },
     "execution_count": 15,
     "metadata": {},
     "output_type": "execute_result"
    }
   ],
   "source": [
    "model.nearest_words(\"rap\")"
   ]
  },
  {
   "cell_type": "code",
   "execution_count": 15,
   "metadata": {},
   "outputs": [
    {
     "data": {
      "text/plain": [
       "[('hop', 0.828),\n",
       " ('hip', 0.817),\n",
       " ('funk', 0.758),\n",
       " ('rock', 0.737),\n",
       " ('punk', 0.706),\n",
       " ('music', 0.676),\n",
       " ('pop', 0.666),\n",
       " ('scene', 0.659),\n",
       " ('band', 0.657),\n",
       " ('jazz', 0.625)]"
      ]
     },
     "execution_count": 15,
     "metadata": {},
     "output_type": "execute_result"
    }
   ],
   "source": [
    "model.nearest_words(\"rap\")"
   ]
  },
  {
   "cell_type": "code",
   "execution_count": 16,
   "metadata": {},
   "outputs": [
    {
     "data": {
      "text/plain": [
       "[('computation', 0.5465058022397296),\n",
       " ('mathematical', 0.5315278316790796),\n",
       " ('calculations', 0.4994570691960913),\n",
       " ('polynomial', 0.4853806562058537),\n",
       " ('calculation', 0.47300081538676775),\n",
       " ('practical', 0.4601426062722473),\n",
       " ('statistical', 0.4555170951220424),\n",
       " ('symbolic', 0.45497525761360064),\n",
       " ('geometric', 0.44109344247751964),\n",
       " ('simplest', 0.43795333700408695)]"
      ]
     },
     "execution_count": 16,
     "metadata": {},
     "output_type": "execute_result"
    }
   ],
   "source": [
    "model.nearest_words(\"numerical\")"
   ]
  },
  {
   "cell_type": "code",
   "execution_count": 17,
   "metadata": {},
   "outputs": [
    {
     "data": {
      "text/plain": [
       "[('differential', 0.7594258959608984),\n",
       " ('equations', 0.7239119589985681),\n",
       " ('equation', 0.6819562007574576),\n",
       " ('continuous', 0.6742284479542173),\n",
       " ('multiplication', 0.6736136605499375),\n",
       " ('integral', 0.672041839604285),\n",
       " ('algebraic', 0.6671381718198904),\n",
       " ('vector', 0.6540550898957959),\n",
       " ('algebra', 0.6302501789190643),\n",
       " ('inverse', 0.6221151413953542)]"
      ]
     },
     "execution_count": 17,
     "metadata": {},
     "output_type": "execute_result"
    }
   ],
   "source": [
    "model.nearest_words(\"linear\")"
   ]
  },
  {
   "cell_type": "code",
   "execution_count": 18,
   "metadata": {},
   "outputs": [
    {
     "data": {
      "text/plain": [
       "[('geometry', 0.794859875511826),\n",
       " ('calculus', 0.7298933961965518),\n",
       " ('algebraic', 0.7155391263668169),\n",
       " ('differential', 0.6874238149617942),\n",
       " ('equations', 0.6651955905386229),\n",
       " ('equation', 0.64777342071062),\n",
       " ('theorem', 0.6471401497627617),\n",
       " ('topology', 0.6340296428267992),\n",
       " ('linear', 0.6302501789190643),\n",
       " ('integral', 0.6183934543302468)]"
      ]
     },
     "execution_count": 18,
     "metadata": {},
     "output_type": "execute_result"
    }
   ],
   "source": [
    "model.nearest_words(\"algebra\")"
   ]
  },
  {
   "cell_type": "markdown",
   "metadata": {},
   "source": [
    "6. Calculate top 10 nearest neighbours with the corresponding cosine similarities for the words {numerical, linear, algebra} and insert them in the correspoding functions in ```pset2.py```."
   ]
  },
  {
   "cell_type": "markdown",
   "metadata": {},
   "source": [
    "# Problem 4 (eigenvalues)  45 pts\n",
    "\n",
    "### 1. Theoretical tasks\n",
    "\n",
    "* (5 pts) Prove that normal matrix is Hermitian iff its eigenvalues are real. Prove that normal matrix is unitary iff its eigenvalues satisfy $|\\lambda| = 1$. \n",
    "\n",
    "* (5 pts) The following problem illustrates instability of the Jordan form. Find theoretically the eigenvalues of the perturbed Jordan block:\n",
    "\n",
    "$$\n",
    "    J(\\varepsilon) = \n",
    "    \\begin{bmatrix} \n",
    "     \\lambda & 1 & & & 0 \\\\ \n",
    "     & \\lambda & 1 & & \\\\ \n",
    "     &  & \\ddots & \\ddots & \\\\ \n",
    "     & & & \\lambda & 1 \\\\ \n",
    "     \\varepsilon & & & & \\lambda  \\\\ \n",
    "    \\end{bmatrix}_{n\\times n}\n",
    "$$\n",
    "\n",
    "Comment how eigenvalues of $J(0)$ are perturbed for large $n$."
   ]
  },
  {
   "cell_type": "markdown",
   "metadata": {},
   "source": [
    "*(2.5 pts) Prove that normal matrix is Hermitian iff its eigenvalues are real.*"
   ]
  },
  {
   "cell_type": "markdown",
   "metadata": {},
   "source": [
    "$$\\Rightarrow$$\n",
    "$A$ is normal and Hermitian, then\n",
    "$$A=A^*, Ax=\\lambda x$$\n",
    "$$x^*A^*=(Ax)^*=(\\lambda x)^*=\\lambda^*x^*$$\n",
    "$$x^*A^*=\\lambda^*x^*$$\n",
    "$$x^*A^*x=\\lambda^*x^*x$$\n",
    "$$x^*Ax=\\lambda^*x^*x$$\n",
    "$$x^*\\lambda x= \\lambda x^* x = \\lambda^* x^* x \\longrightarrow \\lambda = \\lambda^*$$\n",
    "\n",
    "$$\\Leftarrow$$\n",
    "$A$ is normal and has real eigenvalues\n",
    "Normal matrix is diagonizable, so\n",
    "$$A=UDU^*$$\n",
    "Where $U$ is unitary matrix (orthonormal eigenvectors), $D$ is diagonal matrix with eigenvalues on the main diagonal. Simply applying coupling operation we are getting $A = A^*$, so A is Hermitian\n",
    "\n"
   ]
  },
  {
   "cell_type": "markdown",
   "metadata": {},
   "source": [
    "*(2.5 pts) Prove that normal matrix is unitary iff its eigenvalues satisfy  |𝜆|=1*\n",
    "$$\\Rightarrow$$\n",
    "$U$ is unitary, so $U$ is normal\n",
    "$$I\\stackrel{\\text{unitary}}{=}UU^*\\stackrel{\\text{normal, decomposition exist}}{=}VDV^*VD^*V^*= VDD^*V^*$$\n",
    "So $DD^*=I$ as $VV^*=I$ ($V$ is unitary) $\\longrightarrow |\\lambda|=1$ \n",
    "\n",
    "$$\\Leftarrow$$\n",
    "$X$ is normal matrix and $|\\lambda|=1$\n",
    "$$X=UDU^*$$\n",
    "$$XX^*=UDU^*UD^*U^*=UDD^*U^*=UIU^*=UU^*=I$$\n",
    "$X^*X$ similarly, so $X$ is unitary"
   ]
  },
  {
   "cell_type": "markdown",
   "metadata": {},
   "source": [
    "*(5 pts) The following problem illustrates instability of the Jordan form. Find theoretically the eigenvalues of the perturbed Jordan block. Comment how eigenvalues of  𝐽(0)  are perturbed for large  𝑛.*\n",
    "\n",
    "$$\n",
    "    \\det \\begin{bmatrix} \n",
    "     \\lambda-\\mu & 1 & & & 0 \\\\ \n",
    "     & \\lambda-\\mu & 1 & & \\\\ \n",
    "     &  & \\ddots & \\ddots & \\\\ \n",
    "     & & & \\lambda-\\mu & 1 \\\\ \n",
    "     \\varepsilon & & & & \\lambda-\\mu  \\\\ \n",
    "    \\end{bmatrix} = 0\n",
    "$$\n",
    "\n",
    "\n",
    "Using the first column\n",
    "$$\n",
    " (\\lambda-\\mu) \\det \\begin{bmatrix} \n",
    "     \\lambda-\\mu & 1 & & & 0 \\\\ \n",
    "     & \\lambda-\\mu & 1 & & \\\\ \n",
    "     &  & \\ddots & \\ddots & \\\\ \n",
    "     & & & \\lambda-\\mu & 1 \\\\ \n",
    "    0 & & & & \\lambda-\\mu  \\\\ \n",
    "    \\end{bmatrix}_{(upper\\ triang)_{n-1\\times n-1\\ }} \n",
    "    + (-1)^{n+1} \\varepsilon \\det\n",
    "    \\begin{bmatrix} \n",
    "      1 & & & & 0 \\\\ \n",
    "     \\lambda-\\mu & 1 & & &\\\\ \n",
    "     &  & \\ddots & \\ddots & \\\\ \n",
    "     & & &  1 & \\\\ \n",
    "     & & &  \\lambda-\\mu & 1 &\\\\ \n",
    "    \\end{bmatrix}_{(lower\\ triang)_{n-1\\times n-1\\ }} = 0\n",
    "$$\n",
    "\n",
    "$$\n",
    "(\\lambda - \\mu)^n + (-1)^{n+1} \\varepsilon = 0 \\longrightarrow \\mu = \\lambda + \\sqrt[n]{\\varepsilon} \\cdot  e^{i\\pi + 2i\\pi k /n}\n",
    "$$"
   ]
  },
  {
   "cell_type": "markdown",
   "metadata": {},
   "source": [
    "### 2. PageRank\n",
    "\n",
    "\n",
    "#### Damping factor importance\n",
    "\n",
    "* (5 pts) Write the function ```pagerank_matrix(G)``` that takes an adjacency matrix $G$ (in both sparse and dense formats) as an input and outputs the corresponding PageRank matrix $A$.\n",
    "\n",
    "* (3 pts) Find PageRank matrix $A$ that corresponds to the following graph: <img src=\"graph.png\" width='250'>\n",
    "What is its largest eigenvalue? What multiplicity does it have?\n",
    "\n",
    "\n",
    "* (5 pts) Implement the power method for a given matrix $A$, an initial guess $x_0$ and a number of iterations ```num_iter```. It should be organized as a function ```power_method(A, x0, num_iter)``` that outputs approximation to eigenvector $x$, eigenvalue $\\lambda$ and history of residuals $\\{\\|Ax_k - \\lambda_k x_k\\|_2\\}$. Make sure that the method conveges to the correct solution on a matrix $\\begin{bmatrix} 2 & -1 \\\\ -1 & 2 \\end{bmatrix}$ which is known to have the largest eigenvalue equal to $3$.\n",
    "\n",
    "\n",
    "* (2 pts) Run the power method for the graph presented above and plot residuals $\\|Ax_k - \\lambda_k x_k\\|_2$ as a function of $k$ for ```num_iter=100``` and random initial guess ```x0```.  Explain the absence of convergence. \n",
    "\n",
    "\n",
    "* (2 pts) Consider the same graph, but with a directed edge that goes from the node 3 to the node 4 being removed. Plot residuals as in the previous task and discuss the convergence. Now, run the power method with ```num_iter=100``` for 10 different initial guesses and print/plot the resulting approximated eigenvectors. Why do they depend on the initial guess?\n",
    "\n",
    "\n",
    "In order to avoid this problem Larry Page and Sergey Brin [proposed](http://ilpubs.stanford.edu:8090/422/1/1999-66.pdf) to use the following regularization technique:\n",
    "\n",
    "$$\n",
    "A_d = dA + \\frac{1-d}{N} \\begin{pmatrix} 1 & \\dots & 1 \\\\ \\vdots & & \\vdots \\\\ 1 & \\dots & 1 \\end{pmatrix},\n",
    "$$\n",
    "\n",
    "where $d$ is a small parameter in $[0,1]$ (typically $d=0.85$), which is called **damping factor**, $A$ is of size $N\\times N$. Now $A_d$ is the matrix with multiplicity of the largest eigenvalue equal to 1. \n",
    "Recall that computing the eigenvector of the PageRank matrix, which corresponds to the largest eigenvalue, has the following interpretation. Consider a person who stays in a random node of a graph (i.e. opens a random web page); at each step s/he follows one of the outcoming edges uniformly at random (i.e. opens one of the links). So the person randomly walks through the graph and the eigenvector we are looking for is exactly his/her stationary distribution â€” for each node it tells you the probability of visiting this particular node. Therefore, if the person has started from a part of the graph which is not connected with the other part, he will never get there.  In the regularized model, the person at each step follows one of the outcoming links with probability $d$ OR teleports to a random node from the whole graph with probability $(1-d)$.\n",
    "\n",
    "* (2 pts) Now, run the power method with $A_d$ and plot residuals $\\|A_d x_k - \\lambda_k x_k\\|_2$ as a function of $k$ for $d=0.97$, ```num_iter=100``` and a random initial guess ```x0```.\n",
    "\n",
    "* (5 pts) Find the second largest in the absolute value eigenvalue of the obtained matrix $A_d$. How and why is it connected to the damping factor $d$? What is the convergence rate of the PageRank algorithm when using damping factor?\n",
    "\n",
    "Usually, graphs that arise in various areas are sparse (social, web, road networks, etc.) and, thus, computation of a matrix-vector product for corresponding PageRank matrix $A$ is much cheaper than $\\mathcal{O}(N^2)$. However, if $A_d$ is calculated directly, it becomes dense and, therefore, $\\mathcal{O}(N^2)$ cost grows prohibitively large for  big $N$.\n",
    "\n",
    "\n",
    "* (2 pts) Implement fast matrix-vector product for $A_d$ as a function ```pagerank_matvec(A, d, x)```, which takes a PageRank matrix $A$ (in sparse format, e.g., ```csr_matrix```), damping factor $d$ and a vector $x$ as an input and returns $A_dx$ as an output. \n",
    "\n",
    "* (1 pts) Generate a random adjacency matrix of size $10000 \\times 10000$ with only 100 non-zero elements and compare ```pagerank_matvec``` performance with direct evaluation of $A_dx$."
   ]
  },
  {
   "cell_type": "code",
   "execution_count": null,
   "metadata": {
    "collapsed": true
   },
   "outputs": [],
   "source": [
    "# implement the functions in the pset2.py file\n",
    "from pset2 import pagerank_matrix, power_method, pagerank_matvec\n"
   ]
  },
  {
   "cell_type": "code",
   "execution_count": 45,
   "metadata": {},
   "outputs": [],
   "source": [
    "\"\"\"\n",
    "from numba import jit\n",
    "\n",
    "@jit(parallel=True)\n",
    "def pagerank_matrix(G, return_dense=True): # 5 pts\n",
    "    G_sparse = sparse.csr_matrix(G, dtype='float')\n",
    "    sh = G_sparse.get_shape()\n",
    "    sums = G_sparse.sum(axis=1)\n",
    "    for i in range(sh[0]):\n",
    "        for j in G_sparse.getrow(i).indices:\n",
    "            G_sparse[i,j] = 1/sums[i,0]\n",
    "    G_sparse = G_sparse.transpose()\n",
    "    if return_dense:\n",
    "        return G_sparse.todense()\n",
    "    else:\n",
    "        return G_sparse\n",
    "\"\"\""
   ]
  },
  {
   "cell_type": "code",
   "execution_count": 46,
   "metadata": {},
   "outputs": [
    {
     "data": {
      "text/plain": [
       "matrix([[0. , 1. , 1. ],\n",
       "        [0.5, 0. , 0. ],\n",
       "        [0.5, 0. , 0. ]])"
      ]
     },
     "execution_count": 46,
     "metadata": {},
     "output_type": "execute_result"
    }
   ],
   "source": [
    "pagerank_matrix(np.array([[0,1,1],[1,0,0], [1,0,0]]))"
   ]
  },
  {
   "cell_type": "code",
   "execution_count": 189,
   "metadata": {},
   "outputs": [
    {
     "data": {
      "text/plain": [
       "array([[0. , 0. , 0.5, 0. , 0. ],\n",
       "       [1. , 0. , 0.5, 0. , 0. ],\n",
       "       [0. , 1. , 0. , 0. , 0. ],\n",
       "       [0. , 0. , 0. , 0. , 1. ],\n",
       "       [0. , 0. , 0. , 1. , 0. ]])"
      ]
     },
     "execution_count": 189,
     "metadata": {},
     "output_type": "execute_result"
    }
   ],
   "source": [
    "my_graph = np.zeros((5,5))\n",
    "my_graph[0,1] = 1\n",
    "my_graph[1,2] = 1\n",
    "my_graph[2,0] = 1\n",
    "my_graph[2,1] = 1\n",
    "my_graph[3,4] = 1\n",
    "my_graph[4,3] = 1\n",
    "pagerank_matrix(my_graph)"
   ]
  },
  {
   "cell_type": "markdown",
   "metadata": {},
   "source": [
    "Since it's left probability matrix the largest eigenvalue is 1.\n",
    "\n",
    "Characteristic equation looks like\n",
    "$$\\frac{1}{2}(\\lambda+1)(\\lambda-1)(\\lambda-1)(2\\lambda^2+2\\lambda+1)$$\n",
    "The multiplicity is 2"
   ]
  },
  {
   "cell_type": "code",
   "execution_count": 213,
   "metadata": {},
   "outputs": [],
   "source": [
    "\"\"\"\n",
    "def power_method(A, x0, num_iter): # 5 pts\n",
    "    l = np.random.rand()\n",
    "    x = x0\n",
    "\n",
    "    res = np.zeros(num_iter+1)\n",
    "    res[0] = np.linalg.norm(np.dot(A,x) - l*x)\n",
    "    for i in range(num_iter):\n",
    "        new_x = np.dot(A,x)\n",
    "        \n",
    "        norm = np.linalg.norm(new_x)\n",
    "        l = np.dot(new_x, x)\n",
    "        \n",
    "        x = new_x / norm\n",
    "        \n",
    "        res[i+1] = np.linalg.norm(np.dot(A,x) - l*x)\n",
    "\n",
    "    return x, l, res\n",
    "\"\"\""
   ]
  },
  {
   "cell_type": "markdown",
   "metadata": {},
   "source": [
    "*(5 pts) Implement the power method for a given matrix  𝐴 , an initial guess  𝑥0  and a number of iterations num_iter. It should be organized as a function power_method(A, x0, num_iter) that outputs approximation to eigenvector  𝑥 , eigenvalue  𝜆  and history of residuals  {‖𝐴𝑥𝑘−𝜆𝑘𝑥𝑘‖2} . Make sure that the method conveges to the correct solution on a matrix  [2−1−12]  which is known to have the largest eigenvalue equal to  3 .*"
   ]
  },
  {
   "cell_type": "code",
   "execution_count": 214,
   "metadata": {},
   "outputs": [],
   "source": [
    "sample = np.array([[2,-1],[-1,2]])\n",
    "x,l,res = power_method(sample, np.random.randn(sample.shape[0]), 100)"
   ]
  },
  {
   "cell_type": "code",
   "execution_count": 215,
   "metadata": {},
   "outputs": [
    {
     "data": {
      "text/plain": [
       "array([[ 2, -1],\n",
       "       [-1,  2]])"
      ]
     },
     "execution_count": 215,
     "metadata": {},
     "output_type": "execute_result"
    }
   ],
   "source": [
    "sample"
   ]
  },
  {
   "cell_type": "code",
   "execution_count": 216,
   "metadata": {},
   "outputs": [
    {
     "data": {
      "text/plain": [
       "3.0"
      ]
     },
     "execution_count": 216,
     "metadata": {},
     "output_type": "execute_result"
    }
   ],
   "source": [
    "l"
   ]
  },
  {
   "cell_type": "code",
   "execution_count": 217,
   "metadata": {},
   "outputs": [
    {
     "data": {
      "image/png": "[encoded data removed]",
      "text/plain": [
       "<Figure size 1152x648 with 1 Axes>"
      ]
     },
     "metadata": {
      "needs_background": "light"
     },
     "output_type": "display_data"
    }
   ],
   "source": [
    "import matplotlib.pyplot as plt\n",
    "plt.figure(figsize=(16,9))\n",
    "\n",
    "plt.plot(res)\n",
    "\n",
    "plt.title('Residuals for sample matrix')\n",
    "plt.xlabel('Iteration')\n",
    "plt.ylabel('Error')\n",
    "plt.show()"
   ]
  },
  {
   "cell_type": "markdown",
   "metadata": {},
   "source": [
    "*(2 pts) Run the power method for the graph presented above and plot residuals  ‖𝐴𝑥𝑘−𝜆𝑘𝑥𝑘‖2  as a function of  𝑘  for num_iter=100 and random initial guess x0. Explain the absence of convergence.*"
   ]
  },
  {
   "cell_type": "code",
   "execution_count": 219,
   "metadata": {},
   "outputs": [
    {
     "name": "stdout",
     "output_type": "stream",
     "text": [
      "0.3405956788161604\n",
      "0.9901282427378311\n",
      "0.6430742545798771\n",
      "-0.6052105042746267\n",
      "-0.6561530392435762\n",
      "0.7630674173089614\n",
      "0.5715419290076751\n",
      "0.7224314697525176\n",
      "0.9103132973852844\n",
      "-0.6989211937596935\n"
     ]
    }
   ],
   "source": [
    "my_graph = np.zeros((5,5))\n",
    "my_graph[0,1] = 1\n",
    "my_graph[1,2] = 1\n",
    "my_graph[2,0] = 1\n",
    "my_graph[2,1] = 1\n",
    "my_graph[3,4] = 1\n",
    "my_graph[4,3] = 1\n",
    "prm = pagerank_matrix(my_graph)\n",
    "for i in range(10):\n",
    "    x,l,res = power_method(prm, np.random.randn(prm.shape[0]), 100)\n",
    "    print(l)"
   ]
  },
  {
   "cell_type": "code",
   "execution_count": 220,
   "metadata": {},
   "outputs": [
    {
     "data": {
      "image/png": "[encoded data removed]",
      "text/plain": [
       "<Figure size 1152x648 with 1 Axes>"
      ]
     },
     "metadata": {
      "needs_background": "light"
     },
     "output_type": "display_data"
    }
   ],
   "source": [
    "import matplotlib.pyplot as plt\n",
    "plt.figure(figsize=(16,9))\n",
    "\n",
    "plt.plot(res)\n",
    "\n",
    "plt.title('Residuals for my_graph page rank matrix')\n",
    "plt.xlabel('Iteration')\n",
    "plt.ylabel('Error')\n",
    "plt.show()"
   ]
  },
  {
   "cell_type": "markdown",
   "metadata": {},
   "source": [
    "It doesn't converge because $\\Big|\\frac{\\lambda_2}{\\lambda_1}\\Big| = \\Big|\\frac{-1}{1}\\Big| = 1$"
   ]
  },
  {
   "cell_type": "markdown",
   "metadata": {},
   "source": [
    "*(2 pts) Consider the same graph, but with a directed edge that goes from the node 3 to the node 4 being removed. Plot residuals as in the previous task and discuss the convergence. Now, run the power method with num_iter=100 for 10 different initial guesses and print/plot the resulting approximated eigenvectors. Why do they depend on the initial guess?*"
   ]
  },
  {
   "cell_type": "code",
   "execution_count": 221,
   "metadata": {},
   "outputs": [
    {
     "data": {
      "text/plain": [
       "array([[0. , 0. , 0.5, 0. , 0. ],\n",
       "       [1. , 0. , 0.5, 0. , 0. ],\n",
       "       [0. , 1. , 0. , 0. , 0. ],\n",
       "       [0. , 0. , 0. , 0. , 1. ],\n",
       "       [0. , 0. , 0. , 0. , 0. ]])"
      ]
     },
     "execution_count": 221,
     "metadata": {},
     "output_type": "execute_result"
    }
   ],
   "source": [
    "my_graph = np.zeros((5,5))\n",
    "my_graph[0,1] = 1\n",
    "my_graph[1,2] = 1\n",
    "my_graph[2,0] = 1\n",
    "my_graph[2,1] = 1\n",
    "my_graph[4,3] = 1\n",
    "pagerank_matrix(my_graph)"
   ]
  },
  {
   "cell_type": "markdown",
   "metadata": {},
   "source": [
    "$$\\frac{-1}{2}\\lambda\\lambda(\\lambda-1)(2\\lambda^2+2\\lambda+1)$$\n",
    "$$\\lambda=0,1,-\\frac{1}{2}+\\frac{i}{2}, -\\frac{1}{2}-\\frac{i}{2}$$\n",
    "$$\\Big|\\frac{\\lambda_2}{\\lambda_1}\\Big| = \\Big|\\frac{1/\\sqrt{2}}{1}\\Big| = \\frac{1}{\\sqrt{2}}$$"
   ]
  },
  {
   "cell_type": "code",
   "execution_count": 225,
   "metadata": {},
   "outputs": [
    {
     "name": "stdout",
     "output_type": "stream",
     "text": [
      "0.9999999999999999\n",
      "[0.33333333 0.66666667 0.66666667 0.         0.        ]\n",
      "0.9999999999999989\n",
      "[-0.33333333 -0.66666667 -0.66666667  0.          0.        ]\n",
      "1.0000000000000027\n",
      "[-0.33333333 -0.66666667 -0.66666667  0.          0.        ]\n",
      "1.0000000000000004\n",
      "[0.33333333 0.66666667 0.66666667 0.         0.        ]\n",
      "1.0000000000000004\n",
      "[-0.33333333 -0.66666667 -0.66666667  0.          0.        ]\n",
      "0.9999999999999999\n",
      "[-0.33333333 -0.66666667 -0.66666667  0.          0.        ]\n",
      "0.999999999999998\n",
      "[-0.33333333 -0.66666667 -0.66666667  0.          0.        ]\n",
      "1.000000000000001\n",
      "[0.33333333 0.66666667 0.66666667 0.         0.        ]\n",
      "1.0000000000000024\n",
      "[-0.33333333 -0.66666667 -0.66666667  0.          0.        ]\n",
      "1.000000000000103\n",
      "[-0.33333333 -0.66666667 -0.66666667  0.          0.        ]\n"
     ]
    }
   ],
   "source": [
    "prm = pagerank_matrix(my_graph)\n",
    "for i in range(10):\n",
    "    x,l,res = power_method(prm, np.random.randn(prm.shape[0]), 100)\n",
    "    print(l)\n",
    "    print(x)"
   ]
  },
  {
   "cell_type": "markdown",
   "metadata": {},
   "source": [
    "We can see that resulting vectors depend on the initial vector (I mean +-). \n",
    "\n",
    "This happens because in + case eigenvector is the component of the initial vector with positive sign coefficient, so we converge to positive eigenvector. Otherwise to negative."
   ]
  },
  {
   "cell_type": "code",
   "execution_count": 223,
   "metadata": {},
   "outputs": [
    {
     "data": {
      "image/png": "[encoded data removed]",
      "text/plain": [
       "<Figure size 1152x648 with 1 Axes>"
      ]
     },
     "metadata": {
      "needs_background": "light"
     },
     "output_type": "display_data"
    }
   ],
   "source": [
    "import matplotlib.pyplot as plt\n",
    "plt.figure(figsize=(16,9))\n",
    "\n",
    "plt.plot(res)\n",
    "\n",
    "plt.title('Residuals for my_graph page rank matrix')\n",
    "plt.xlabel('Iteration')\n",
    "plt.ylabel('Error')\n",
    "plt.show()"
   ]
  },
  {
   "cell_type": "markdown",
   "metadata": {},
   "source": [
    "*(2 pts) Now, run the power method with  𝐴𝑑  and plot residuals  ‖𝐴𝑑𝑥𝑘−𝜆𝑘𝑥𝑘‖2  as a function of  𝑘  for  𝑑=0.97 , num_iter=100 and a random initial guess x0.*"
   ]
  },
  {
   "cell_type": "code",
   "execution_count": 226,
   "metadata": {},
   "outputs": [],
   "source": [
    "my_graph = np.zeros((5,5))\n",
    "my_graph[0,1] = 1\n",
    "my_graph[1,2] = 1\n",
    "my_graph[2,0] = 1\n",
    "my_graph[2,1] = 1\n",
    "my_graph[3,4] = 1\n",
    "my_graph[4,3] = 1\n",
    "prm = pagerank_matrix(my_graph)\n",
    "d = 0.97\n",
    "prmd = d*prm + ((1-d)/prm.shape[0])*np.full((prm.shape[0], prm.shape[1]), 1)\n",
    "x,l,res = power_method(prmd, np.random.randn(prmd.shape[0]), 100)"
   ]
  },
  {
   "cell_type": "code",
   "execution_count": 230,
   "metadata": {},
   "outputs": [
    {
     "data": {
      "text/plain": [
       "0.9969970568395099"
      ]
     },
     "execution_count": 230,
     "metadata": {},
     "output_type": "execute_result"
    }
   ],
   "source": [
    "l"
   ]
  },
  {
   "cell_type": "code",
   "execution_count": 227,
   "metadata": {},
   "outputs": [
    {
     "data": {
      "image/png": "[encoded data removed]",
      "text/plain": [
       "<Figure size 1152x648 with 1 Axes>"
      ]
     },
     "metadata": {
      "needs_background": "light"
     },
     "output_type": "display_data"
    }
   ],
   "source": [
    "import matplotlib.pyplot as plt\n",
    "plt.figure(figsize=(16,9))\n",
    "\n",
    "plt.plot(res)\n",
    "\n",
    "plt.title('Residuals for Ad matrix power method')\n",
    "plt.xlabel('Iteration')\n",
    "plt.ylabel('Error')\n",
    "plt.show()"
   ]
  },
  {
   "cell_type": "markdown",
   "metadata": {},
   "source": [
    "*(5 pts) Find the second largest in the absolute value eigenvalue of the obtained matrix  𝐴𝑑 . How and why is it connected to the damping factor  𝑑 ? What is the convergence rate of the PageRank algorithm when using damping factor?*"
   ]
  },
  {
   "cell_type": "code",
   "execution_count": 232,
   "metadata": {},
   "outputs": [
    {
     "name": "stdout",
     "output_type": "stream",
     "text": [
      "[-0.485+0.485j -0.485-0.485j  1.   +0.j     0.97 +0.j    -0.97 +0.j   ]\n",
      "[0.68589358 0.68589358 1.         0.97       0.97      ]\n"
     ]
    }
   ],
   "source": [
    "print(np.linalg.eigvals(prmd))\n",
    "print(np.abs(np.linalg.eigvals(prmd)))"
   ]
  },
  {
   "cell_type": "markdown",
   "metadata": {},
   "source": [
    "So we can see that it's exactly $0.97=d$.\n",
    "\n",
    "The convergence rate will be $\\Big|\\frac{0.97}{1}\\Big| = 0.97$"
   ]
  },
  {
   "cell_type": "markdown",
   "metadata": {},
   "source": [
    "*(2 pts) Implement fast matrix-vector product for  𝐴𝑑  as a function pagerank_matvec(A, d, x), which takes a PageRank matrix  𝐴  (in sparse format, e.g., csr_matrix), damping factor  𝑑  and a vector  𝑥  as an input and returns  𝐴𝑑𝑥  as an output.*"
   ]
  },
  {
   "cell_type": "code",
   "execution_count": 7,
   "metadata": {},
   "outputs": [],
   "source": [
    "def pagerank_matvec(A, d, x): # 2 pts\n",
    "    A_sparse = sparse.csr_matrix(d*A)\n",
    "    sh = A_sparse.get_shape()\n",
    "    x_sparse = sparse.csr_matrix(x.reshape((x.shape[0], 1)))\n",
    "    second_part_value = ((1-d)/sh[0])*np.sum(x)\n",
    "    second_part_vector = np.full(sh[0], second_part_value)\n",
    "    second_part_vector_sparse = sparse.csr_matrix(second_part_vector.reshape((second_part_vector.shape[0], 1)))\n",
    "    return A_sparse.dot(x_sparse) + second_part_vector_sparse "
   ]
  },
  {
   "cell_type": "markdown",
   "metadata": {},
   "source": [
    "*(1 pts) Generate a random adjacency matrix of size  10000×10000  with only 100 non-zero elements and compare pagerank_matvec performance with direct evaluation of  𝐴𝑑𝑥 .*"
   ]
  },
  {
   "cell_type": "code",
   "execution_count": 12,
   "metadata": {},
   "outputs": [],
   "source": [
    "rand_sparse = sparse.random(10000, 10000, density=1e-6, format='csr',\n",
    "                 data_rvs=np.ones\n",
    "                 )\n",
    "x = np.random.randn(10000)\n",
    "d= 0.97"
   ]
  },
  {
   "cell_type": "code",
   "execution_count": 13,
   "metadata": {},
   "outputs": [
    {
     "name": "stdout",
     "output_type": "stream",
     "text": [
      "CPU times: user 4 ms, sys: 0 ns, total: 4 ms\n",
      "Wall time: 6.87 ms\n"
     ]
    },
    {
     "data": {
      "text/plain": [
       "<10000x1 sparse matrix of type '<class 'numpy.float64'>'\n",
       "\twith 10000 stored elements in Compressed Sparse Row format>"
      ]
     },
     "execution_count": 13,
     "metadata": {},
     "output_type": "execute_result"
    }
   ],
   "source": [
    "%%time\n",
    "pagerank_matvec(rand_sparse, 0.97, x)"
   ]
  },
  {
   "cell_type": "code",
   "execution_count": 18,
   "metadata": {},
   "outputs": [
    {
     "name": "stdout",
     "output_type": "stream",
     "text": [
      "CPU times: user 4.83 s, sys: 2.53 s, total: 7.36 s\n",
      "Wall time: 10.7 s\n"
     ]
    }
   ],
   "source": [
    "%%time\n",
    "Ad_sparse = sparse.csr_matrix(d*rand_sparse)\n",
    "sh = Ad_sparse.get_shape()\n",
    "Ad_sparse += sparse.csr_matrix((1-d)/sh[0]*np.full(sh, 1))\n",
    "x_sparse = sparse.csr_matrix(x.reshape((x.shape[0], 1)))\n",
    "Ad_sparse.dot(x_sparse)"
   ]
  },
  {
   "cell_type": "markdown",
   "metadata": {},
   "source": [
    "Computation is way more longer!"
   ]
  },
  {
   "cell_type": "markdown",
   "metadata": {},
   "source": [
    "#### DBLP: computer science bibliography\n",
    "\n",
    "Download the dataset from [here](https://goo.gl/oZVxEa), unzip it and put `dblp_authors.npz`  and `dblp_graph.npz` in the same folder with this notebook. Each value (author name) from `dblp_authors.npz` corresponds to the row/column of the matrix from `dblp_graph.npz`. Value at row `i` and column `j` of the matrix from `dblp_graph.npz` corresponds to the number of times author `i` cited papers of the author `j`. Let us now find the most significant scientists according to PageRank model over DBLP data.\n",
    "\n",
    "* (4 pts) Load the weighted adjacency matrix and the authors list into Python using ```load_dblp(...)``` function. Print its density (fraction of nonzero elements). Find top-10 most cited authors from the weighted adjacency matrix. Now, make all the weights of the adjacency matrix equal to 1 for simplicity (consider only existence of connection between authors, not its weight). Obtain the PageRank matrix $A$ from the adjacency matrix and verify that it is stochastic.\n",
    " \n",
    " \n",
    "* (1 pts) In order to provide ```pagerank_matvec``` to your ```power_method``` (without rewriting it) for fast calculation of $A_dx$, you can create a ```LinearOperator```: \n",
    "```python\n",
    "L = scipy.sparse.linalg.LinearOperator(A.shape, matvec=lambda x, A=A, d=d: pagerank_matvec(A, d, x))\n",
    "```\n",
    "Calling ```L@x``` or ```L.dot(x)``` will result in calculation of ```pagerank_matvec(A, d, x)``` and, thus, you can plug $L$ instead of the matrix $A$ in the ```power_method``` directly. **Note:** though in the previous subtask graph was very small (so you could disparage fast matvec implementation), here it is very large (but sparse), so that direct evaluation of $A_dx$ will require $\\sim 10^{12}$ matrix elements to store - good luck with that (^_<).\n",
    "\n",
    "\n",
    "* (2 pts) Run the power method starting from the vector of all ones and plot residuals $\\|A_dx_k - \\lambda_k x_k\\|_2$  as a function of $k$ for $d=0.85$.\n",
    "\n",
    "\n",
    "* (1 pts) Print names of the top-10 authors according to PageRank over DBLP when $d=0.85$. Comment on your findings."
   ]
  },
  {
   "cell_type": "code",
   "execution_count": 22,
   "metadata": {},
   "outputs": [],
   "source": [
    "from scipy.sparse import load_npz\n",
    "import numpy as np\n",
    "def load_dblp(path_auth, path_graph):\n",
    "    G = load_npz(path_graph).astype(float)\n",
    "    with np.load(path_auth) as data: authors = data['authors']\n",
    "    return G, authors\n",
    "G, authors = load_dblp('dblp_authors.npz', 'dblp_graph.npz')"
   ]
  },
  {
   "cell_type": "markdown",
   "metadata": {},
   "source": [
    "*(4 pts) Load the weighted adjacency matrix and the authors list into Python using load_dblp(...) function. Print its density (fraction of nonzero elements). Find top-10 most cited authors from the weighted adjacency matrix. Now, make all the weights of the adjacency matrix equal to 1 for simplicity (consider only existence of connection between authors, not its weight). Obtain the PageRank matrix  𝐴  from the adjacency matrix and verify that it is stochastic.*"
   ]
  },
  {
   "cell_type": "code",
   "execution_count": 9,
   "metadata": {},
   "outputs": [
    {
     "data": {
      "text/plain": [
       "(1766547, 1766547)"
      ]
     },
     "execution_count": 9,
     "metadata": {},
     "output_type": "execute_result"
    }
   ],
   "source": [
    "G.get_shape()"
   ]
  },
  {
   "cell_type": "code",
   "execution_count": 21,
   "metadata": {},
   "outputs": [
    {
     "name": "stdout",
     "output_type": "stream",
     "text": [
      "Density 4.4986518152305776e-05\n"
     ]
    }
   ],
   "source": [
    "print(\"Density {}\".format(G.count_nonzero()/G.get_shape()[0]**2))"
   ]
  },
  {
   "cell_type": "code",
   "execution_count": 13,
   "metadata": {},
   "outputs": [
    {
     "data": {
      "text/plain": [
       "[('Scott Shenker', 119853.0),\n",
       " ('Andrew Zisserman', 118558.0),\n",
       " ('Hari Balakrishnan', 117253.0),\n",
       " ('Jiawei Han', 116708.0),\n",
       " ('Anil K. Jain', 113874.0),\n",
       " ('Cordelia Schmid', 102996.0),\n",
       " ('Jitendra Malik', 101657.0),\n",
       " ('Ion Stoica', 98017.0),\n",
       " ('David E. Culler', 95762.0),\n",
       " ('David G. Lowe', 93678.0)]"
      ]
     },
     "execution_count": 13,
     "metadata": {},
     "output_type": "execute_result"
    }
   ],
   "source": [
    "author_score = []\n",
    "scores = G.sum(axis=0)\n",
    "for idx in range(scores.shape[1]):\n",
    "    author_score.append((authors[idx], scores[0,idx]))\n",
    "sorted(author_score, key=lambda x: x[1])[::-1][:10]"
   ]
  },
  {
   "cell_type": "code",
   "execution_count": 44,
   "metadata": {},
   "outputs": [],
   "source": [
    "G = G.astype(bool).astype(int) # transformed to 1"
   ]
  },
  {
   "cell_type": "code",
   "execution_count": 15,
   "metadata": {},
   "outputs": [
    {
     "data": {
      "text/plain": [
       "matrix([[0, 0, 1, ..., 0, 0, 0]])"
      ]
     },
     "execution_count": 15,
     "metadata": {},
     "output_type": "execute_result"
    }
   ],
   "source": [
    "G.getrow(2).todense()"
   ]
  },
  {
   "cell_type": "code",
   "execution_count": 49,
   "metadata": {},
   "outputs": [
    {
     "name": "stderr",
     "output_type": "stream",
     "text": [
      "\n",
      "  0%|          | 0/1766547 [00:00<?, ?it/s]\u001b[A\n",
      "  0%|          | 13/1766547 [00:00<3:51:31, 127.16it/s]\u001b[A\n",
      "  0%|          | 37/1766547 [00:00<3:23:15, 144.85it/s]\u001b[A\n",
      "  0%|          | 62/1766547 [00:00<2:57:50, 165.55it/s]\u001b[A\n",
      "  0%|          | 79/1766547 [00:00<3:04:38, 159.46it/s]\u001b[A\n",
      "  0%|          | 96/1766547 [00:00<3:09:19, 155.51it/s]\u001b[A\n",
      "  0%|          | 145/1766547 [00:00<2:30:57, 195.02it/s]\u001b[A\n",
      "  0%|          | 170/1766547 [00:00<2:44:05, 179.40it/s]\u001b[A\n",
      "  0%|          | 200/1766547 [00:00<2:25:56, 201.72it/s]\u001b[A\n",
      "  0%|          | 228/1766547 [00:01<2:14:43, 218.50it/s]\u001b[A\n",
      "  0%|          | 253/1766547 [00:01<2:15:32, 217.19it/s]\u001b[A\n",
      "  0%|          | 283/1766547 [00:01<2:04:23, 236.66it/s]\u001b[A\n",
      "  0%|          | 322/1766547 [00:01<1:50:10, 267.20it/s]\u001b[A\n",
      "  0%|          | 352/1766547 [00:01<1:57:55, 249.62it/s]\u001b[A\n",
      "  0%|          | 380/1766547 [00:01<1:56:51, 251.88it/s]\u001b[A\n",
      "  0%|          | 423/1766547 [00:01<1:42:40, 286.71it/s]\u001b[A\n",
      "  0%|          | 455/1766547 [00:02<3:30:04, 140.11it/s]\u001b[A\n",
      "  0%|          | 493/1766547 [00:02<2:50:59, 172.13it/s]\u001b[A\n",
      "  0%|          | 521/1766547 [00:02<3:00:16, 163.27it/s]\u001b[A\n",
      "  0%|          | 551/1766547 [00:02<2:35:56, 188.75it/s]\u001b[A\n",
      "  0%|          | 594/1766547 [00:02<2:09:58, 226.46it/s]\u001b[A\n",
      "  0%|          | 625/1766547 [00:02<2:16:47, 215.16it/s]\u001b[A\n",
      "  0%|          | 655/1766547 [00:02<2:06:48, 232.08it/s]\u001b[A\n",
      "  0%|          | 683/1766547 [00:03<2:49:51, 173.28it/s]\u001b[A\n",
      "  0%|          | 713/1766547 [00:03<2:28:21, 198.38it/s]\u001b[A\n",
      "  0%|          | 738/1766547 [00:03<3:20:05, 147.08it/s]\u001b[A\n",
      "  0%|          | 771/1766547 [00:03<2:47:07, 176.09it/s]\u001b[A\n",
      "  0%|          | 810/1766547 [00:03<2:21:32, 207.91it/s]\u001b[A\n",
      "  0%|          | 838/1766547 [00:03<2:21:42, 207.66it/s]\u001b[A\n",
      "  0%|          | 873/1766547 [00:04<2:04:45, 235.89it/s]\u001b[A\n",
      "  0%|          | 906/1766547 [00:04<1:54:15, 257.57it/s]\u001b[A\n",
      "  0%|          | 939/1766547 [00:04<1:46:46, 275.58it/s]\u001b[A\n",
      "  0%|          | 970/1766547 [00:04<1:57:57, 249.45it/s]\u001b[A\n",
      "  0%|          | 1001/1766547 [00:04<1:51:04, 264.93it/s]\u001b[A\n",
      "  0%|          | 1030/1766547 [00:04<1:54:13, 257.61it/s]\u001b[A\n",
      "  0%|          | 1063/1766547 [00:04<2:00:33, 244.09it/s]\u001b[A\n",
      "  0%|          | 1089/1766547 [00:04<2:05:26, 234.55it/s]\u001b[A\n",
      "  0%|          | 1114/1766547 [00:04<2:09:09, 227.80it/s]\u001b[A\n",
      "  0%|          | 1138/1766547 [00:05<3:22:23, 145.38it/s]\u001b[A\n",
      "  0%|          | 1168/1766547 [00:05<2:58:21, 164.97it/s]\u001b[A\n",
      "  0%|          | 1194/1766547 [00:05<2:38:59, 185.05it/s]\u001b[A\n",
      "  0%|          | 1217/1766547 [00:05<3:05:43, 158.42it/s]\u001b[A\n",
      "  0%|          | 1236/1766547 [00:05<3:06:05, 158.11it/s]\u001b[A\n",
      "  0%|          | 347/1766547 [00:40<34:33:56, 14.19it/s]"
     ]
    },
    {
     "ename": "KeyboardInterrupt",
     "evalue": "",
     "output_type": "error",
     "traceback": [
      "\u001b[0;31m---------------------------------------------------------------------------\u001b[0m",
      "\u001b[0;31mKeyboardInterrupt\u001b[0m                         Traceback (most recent call last)",
      "\u001b[0;32m<ipython-input-49-6863d6d4830e>\u001b[0m in \u001b[0;36m<module>\u001b[0;34m\u001b[0m\n\u001b[0;32m----> 1\u001b[0;31m \u001b[0mprm\u001b[0m \u001b[0;34m=\u001b[0m \u001b[0mpagerank_matrix_2\u001b[0m\u001b[0;34m(\u001b[0m\u001b[0mG\u001b[0m\u001b[0;34m,\u001b[0m \u001b[0mreturn_dense\u001b[0m\u001b[0;34m=\u001b[0m\u001b[0;32mFalse\u001b[0m\u001b[0;34m)\u001b[0m\u001b[0;34m\u001b[0m\u001b[0m\n\u001b[0m",
      "\u001b[0;32m~/MyEnv/other/skoltech/nla/env/lib/python3.5/site-packages/scipy/sparse/compressed.py\u001b[0m in \u001b[0;36m__setitem__\u001b[0;34m(self, index, x)\u001b[0m\n\u001b[1;32m    626\u001b[0m         \u001b[0;31m# Process arrays from IndexMixin\u001b[0m\u001b[0;34m\u001b[0m\u001b[0;34m\u001b[0m\u001b[0m\n\u001b[1;32m    627\u001b[0m         \u001b[0mi\u001b[0m\u001b[0;34m,\u001b[0m \u001b[0mj\u001b[0m \u001b[0;34m=\u001b[0m \u001b[0mself\u001b[0m\u001b[0;34m.\u001b[0m\u001b[0m_unpack_index\u001b[0m\u001b[0;34m(\u001b[0m\u001b[0mindex\u001b[0m\u001b[0;34m)\u001b[0m\u001b[0;34m\u001b[0m\u001b[0m\n\u001b[0;32m--> 628\u001b[0;31m         \u001b[0mi\u001b[0m\u001b[0;34m,\u001b[0m \u001b[0mj\u001b[0m \u001b[0;34m=\u001b[0m \u001b[0mself\u001b[0m\u001b[0;34m.\u001b[0m\u001b[0m_index_to_arrays\u001b[0m\u001b[0;34m(\u001b[0m\u001b[0mi\u001b[0m\u001b[0;34m,\u001b[0m \u001b[0mj\u001b[0m\u001b[0;34m)\u001b[0m\u001b[0;34m\u001b[0m\u001b[0m\n\u001b[0m\u001b[1;32m    629\u001b[0m \u001b[0;34m\u001b[0m\u001b[0m\n\u001b[1;32m    630\u001b[0m         \u001b[0;32mif\u001b[0m \u001b[0misspmatrix\u001b[0m\u001b[0;34m(\u001b[0m\u001b[0mx\u001b[0m\u001b[0;34m)\u001b[0m\u001b[0;34m:\u001b[0m\u001b[0;34m\u001b[0m\u001b[0m\n",
      "\u001b[0;32m~/MyEnv/other/skoltech/nla/env/lib/python3.5/site-packages/scipy/sparse/sputils.py\u001b[0m in \u001b[0;36m_index_to_arrays\u001b[0;34m(self, i, j)\u001b[0m\n\u001b[1;32m    458\u001b[0m             \u001b[0mj\u001b[0m \u001b[0;34m=\u001b[0m \u001b[0mnp\u001b[0m\u001b[0;34m.\u001b[0m\u001b[0matleast_1d\u001b[0m\u001b[0;34m(\u001b[0m\u001b[0mj\u001b[0m\u001b[0;34m)\u001b[0m\u001b[0;34m\u001b[0m\u001b[0m\n\u001b[1;32m    459\u001b[0m             \u001b[0;32mif\u001b[0m \u001b[0mi\u001b[0m\u001b[0;34m.\u001b[0m\u001b[0mndim\u001b[0m \u001b[0;34m==\u001b[0m \u001b[0;36m1\u001b[0m\u001b[0;34m:\u001b[0m\u001b[0;34m\u001b[0m\u001b[0m\n\u001b[0;32m--> 460\u001b[0;31m                 \u001b[0mi\u001b[0m\u001b[0;34m,\u001b[0m \u001b[0mj\u001b[0m \u001b[0;34m=\u001b[0m \u001b[0mnp\u001b[0m\u001b[0;34m.\u001b[0m\u001b[0mbroadcast_arrays\u001b[0m\u001b[0;34m(\u001b[0m\u001b[0mi\u001b[0m\u001b[0;34m,\u001b[0m \u001b[0mj\u001b[0m\u001b[0;34m)\u001b[0m\u001b[0;34m\u001b[0m\u001b[0m\n\u001b[0m\u001b[1;32m    461\u001b[0m                 \u001b[0mi\u001b[0m \u001b[0;34m=\u001b[0m \u001b[0mi\u001b[0m\u001b[0;34m[\u001b[0m\u001b[0;34m:\u001b[0m\u001b[0;34m,\u001b[0m \u001b[0;32mNone\u001b[0m\u001b[0;34m]\u001b[0m\u001b[0;34m\u001b[0m\u001b[0m\n\u001b[1;32m    462\u001b[0m                 \u001b[0mj\u001b[0m \u001b[0;34m=\u001b[0m \u001b[0mj\u001b[0m\u001b[0;34m[\u001b[0m\u001b[0;34m:\u001b[0m\u001b[0;34m,\u001b[0m \u001b[0;32mNone\u001b[0m\u001b[0;34m]\u001b[0m\u001b[0;34m\u001b[0m\u001b[0m\n",
      "\u001b[0;32m~/MyEnv/other/skoltech/nla/env/lib/python3.5/site-packages/numpy/lib/stride_tricks.py\u001b[0m in \u001b[0;36mbroadcast_arrays\u001b[0;34m(*args, **kwargs)\u001b[0m\n\u001b[1;32m    250\u001b[0m     \u001b[0margs\u001b[0m \u001b[0;34m=\u001b[0m \u001b[0;34m[\u001b[0m\u001b[0mnp\u001b[0m\u001b[0;34m.\u001b[0m\u001b[0marray\u001b[0m\u001b[0;34m(\u001b[0m\u001b[0m_m\u001b[0m\u001b[0;34m,\u001b[0m \u001b[0mcopy\u001b[0m\u001b[0;34m=\u001b[0m\u001b[0;32mFalse\u001b[0m\u001b[0;34m,\u001b[0m \u001b[0msubok\u001b[0m\u001b[0;34m=\u001b[0m\u001b[0msubok\u001b[0m\u001b[0;34m)\u001b[0m \u001b[0;32mfor\u001b[0m \u001b[0m_m\u001b[0m \u001b[0;32min\u001b[0m \u001b[0margs\u001b[0m\u001b[0;34m]\u001b[0m\u001b[0;34m\u001b[0m\u001b[0m\n\u001b[1;32m    251\u001b[0m \u001b[0;34m\u001b[0m\u001b[0m\n\u001b[0;32m--> 252\u001b[0;31m     \u001b[0mshape\u001b[0m \u001b[0;34m=\u001b[0m \u001b[0m_broadcast_shape\u001b[0m\u001b[0;34m(\u001b[0m\u001b[0;34m*\u001b[0m\u001b[0margs\u001b[0m\u001b[0;34m)\u001b[0m\u001b[0;34m\u001b[0m\u001b[0m\n\u001b[0m\u001b[1;32m    253\u001b[0m \u001b[0;34m\u001b[0m\u001b[0m\n\u001b[1;32m    254\u001b[0m     \u001b[0;32mif\u001b[0m \u001b[0mall\u001b[0m\u001b[0;34m(\u001b[0m\u001b[0marray\u001b[0m\u001b[0;34m.\u001b[0m\u001b[0mshape\u001b[0m \u001b[0;34m==\u001b[0m \u001b[0mshape\u001b[0m \u001b[0;32mfor\u001b[0m \u001b[0marray\u001b[0m \u001b[0;32min\u001b[0m \u001b[0margs\u001b[0m\u001b[0;34m)\u001b[0m\u001b[0;34m:\u001b[0m\u001b[0;34m\u001b[0m\u001b[0m\n",
      "\u001b[0;32m~/MyEnv/other/skoltech/nla/env/lib/python3.5/site-packages/numpy/lib/stride_tricks.py\u001b[0m in \u001b[0;36m_broadcast_shape\u001b[0;34m(*args)\u001b[0m\n\u001b[1;32m    185\u001b[0m     \u001b[0;31m# use the old-iterator because np.nditer does not handle size 0 arrays\u001b[0m\u001b[0;34m\u001b[0m\u001b[0;34m\u001b[0m\u001b[0m\n\u001b[1;32m    186\u001b[0m     \u001b[0;31m# consistently\u001b[0m\u001b[0;34m\u001b[0m\u001b[0;34m\u001b[0m\u001b[0m\n\u001b[0;32m--> 187\u001b[0;31m     \u001b[0mb\u001b[0m \u001b[0;34m=\u001b[0m \u001b[0mnp\u001b[0m\u001b[0;34m.\u001b[0m\u001b[0mbroadcast\u001b[0m\u001b[0;34m(\u001b[0m\u001b[0;34m*\u001b[0m\u001b[0margs\u001b[0m\u001b[0;34m[\u001b[0m\u001b[0;34m:\u001b[0m\u001b[0;36m32\u001b[0m\u001b[0;34m]\u001b[0m\u001b[0;34m)\u001b[0m\u001b[0;34m\u001b[0m\u001b[0m\n\u001b[0m\u001b[1;32m    188\u001b[0m     \u001b[0;31m# unfortunately, it cannot handle 32 or more arguments directly\u001b[0m\u001b[0;34m\u001b[0m\u001b[0;34m\u001b[0m\u001b[0m\n\u001b[1;32m    189\u001b[0m     \u001b[0;32mfor\u001b[0m \u001b[0mpos\u001b[0m \u001b[0;32min\u001b[0m \u001b[0mrange\u001b[0m\u001b[0;34m(\u001b[0m\u001b[0;36m32\u001b[0m\u001b[0;34m,\u001b[0m \u001b[0mlen\u001b[0m\u001b[0;34m(\u001b[0m\u001b[0margs\u001b[0m\u001b[0;34m)\u001b[0m\u001b[0;34m,\u001b[0m \u001b[0;36m31\u001b[0m\u001b[0;34m)\u001b[0m\u001b[0;34m:\u001b[0m\u001b[0;34m\u001b[0m\u001b[0m\n",
      "\u001b[0;31mKeyboardInterrupt\u001b[0m: "
     ]
    }
   ],
   "source": [
    "prm = pagerank_matrix(G, return_dense=False)"
   ]
  },
  {
   "cell_type": "code",
   "execution_count": null,
   "metadata": {},
   "outputs": [],
   "source": [
    "np.savez('prm.npz', prm)"
   ]
  },
  {
   "cell_type": "code",
   "execution_count": null,
   "metadata": {},
   "outputs": [],
   "source": [
    "prm"
   ]
  },
  {
   "cell_type": "code",
   "execution_count": 23,
   "metadata": {},
   "outputs": [
    {
     "data": {
      "text/plain": [
       "matrix([[1., 1., 1., 1., 1., 1., 1., 1., 1., 1.],\n",
       "        [0., 0., 0., 0., 0., 0., 0., 0., 0., 0.],\n",
       "        [0., 0., 0., 0., 0., 0., 0., 0., 0., 0.],\n",
       "        [0., 0., 0., 0., 0., 0., 0., 0., 0., 0.],\n",
       "        [0., 0., 0., 0., 0., 0., 0., 0., 0., 0.],\n",
       "        [0., 0., 0., 0., 0., 0., 0., 0., 0., 0.],\n",
       "        [0., 0., 0., 0., 0., 0., 0., 0., 0., 0.],\n",
       "        [0., 0., 0., 0., 0., 0., 0., 0., 0., 0.],\n",
       "        [0., 0., 0., 0., 0., 0., 0., 0., 0., 0.],\n",
       "        [0., 0., 0., 0., 0., 0., 0., 0., 0., 0.]])"
      ]
     },
     "execution_count": 23,
     "metadata": {},
     "output_type": "execute_result"
    }
   ],
   "source": [
    "sample_csr = sparse.random(10, 10, density=1.0, format='csr',\n",
    "                data_rvs=np.zeros,\n",
    "                dtype='float'\n",
    "                 )\n",
    "sample_csr[0] = np.ones(10)\n",
    "sample_csr.todense()"
   ]
  },
  {
   "cell_type": "code",
   "execution_count": 24,
   "metadata": {},
   "outputs": [
    {
     "data": {
      "text/plain": [
       "matrix([[10.],\n",
       "        [ 0.],\n",
       "        [ 0.],\n",
       "        [ 0.],\n",
       "        [ 0.],\n",
       "        [ 0.],\n",
       "        [ 0.],\n",
       "        [ 0.],\n",
       "        [ 0.],\n",
       "        [ 0.]])"
      ]
     },
     "execution_count": 24,
     "metadata": {},
     "output_type": "execute_result"
    }
   ],
   "source": [
    "sample_csr.sum(axis=1)"
   ]
  },
  {
   "cell_type": "code",
   "execution_count": null,
   "metadata": {},
   "outputs": [],
   "source": []
  }
 ],
 "metadata": {
  "kernelspec": {
   "display_name": "Python 3",
   "language": "python",
   "name": "python3"
  },
  "language_info": {
   "codemirror_mode": {
    "name": "ipython",
    "version": 3
   },
   "file_extension": ".py",
   "mimetype": "text/x-python",
   "name": "python",
   "nbconvert_exporter": "python",
   "pygments_lexer": "ipython3",
   "version": "3.5.2"
  }
 },
 "nbformat": 4,
 "nbformat_minor": 2
}
